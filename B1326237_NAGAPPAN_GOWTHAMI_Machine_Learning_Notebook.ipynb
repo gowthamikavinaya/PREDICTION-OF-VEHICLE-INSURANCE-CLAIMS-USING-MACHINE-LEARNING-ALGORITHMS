{
 "cells": [
  {
   "cell_type": "markdown",
   "id": "xFwIlMmwH8F9",
   "metadata": {
    "id": "xFwIlMmwH8F9"
   },
   "source": [
    "## Vehicle Insurance Claim Prediction using ML Algorithms\n"
   ]
  },
  {
   "cell_type": "markdown",
   "id": "9S5-_ohNIJo_",
   "metadata": {
    "id": "9S5-_ohNIJo_"
   },
   "source": [
    "The Dataset was taken from (https://www.kaggle.com/competitions/actuarial-loss-estimation/data?select=test.csv ) which has 90,000 realistic, synthetically generated worker compensation insurance policies in the dataset, all of which have been involved in an accident. There is demographic and worker information, as well as a text description of the accident, for each report. \n",
    "\n"
   ]
  },
  {
   "cell_type": "markdown",
   "id": "tzJ4bGlQIZYV",
   "metadata": {
    "id": "tzJ4bGlQIZYV"
   },
   "source": [
    "Train.csv - The training set containing 54,000 insurance policies to train the model.\n",
    "\n",
    "Test.csv - The Test dataset to Predict total payment of insurance claim as final result. \n",
    "\n",
    "Sample_submission.csv -  sample file for submission in the correct format"
   ]
  },
  {
   "cell_type": "markdown",
   "id": "f2af1539",
   "metadata": {
    "id": "f2af1539"
   },
   "source": [
    "### Loading the Required libraries"
   ]
  },
  {
   "cell_type": "code",
   "execution_count": null,
   "id": "07f4dee4",
   "metadata": {
    "id": "07f4dee4"
   },
   "outputs": [],
   "source": [
    "import pandas as pd # data analytical library\n",
    "import matplotlib.pyplot as plt #visualization\n",
    "import seaborn as sns #statistical visualization"
   ]
  },
  {
   "cell_type": "markdown",
   "id": "174f33c0",
   "metadata": {
    "id": "174f33c0"
   },
   "source": [
    "### Reading the Vehicle Insurance test and train dataset"
   ]
  },
  {
   "cell_type": "code",
   "execution_count": null,
   "id": "e94684d1",
   "metadata": {
    "id": "e94684d1"
   },
   "outputs": [],
   "source": [
    "Train_Dataset=pd.read_csv(\"/content/Train.csv\")  #loaded the train dataset\n",
    "Test_Dataset=pd.read_csv(\"/content/Test.csv\") #loaded the test dataset"
   ]
  },
  {
   "cell_type": "code",
   "execution_count": null,
   "id": "66721a4b",
   "metadata": {
    "colab": {
     "base_uri": "https://localhost:8080/",
     "height": 513
    },
    "id": "66721a4b",
    "outputId": "4e56112c-030a-4f54-a278-07aa2c84eb35"
   },
   "outputs": [
    {
     "data": {
      "text/html": [
       "\n",
       "  <div id=\"df-724037b9-e60e-40ef-9469-27d28a3d3fdd\">\n",
       "    <div class=\"colab-df-container\">\n",
       "      <div>\n",
       "<style scoped>\n",
       "    .dataframe tbody tr th:only-of-type {\n",
       "        vertical-align: middle;\n",
       "    }\n",
       "\n",
       "    .dataframe tbody tr th {\n",
       "        vertical-align: top;\n",
       "    }\n",
       "\n",
       "    .dataframe thead th {\n",
       "        text-align: right;\n",
       "    }\n",
       "</style>\n",
       "<table border=\"1\" class=\"dataframe\">\n",
       "  <thead>\n",
       "    <tr style=\"text-align: right;\">\n",
       "      <th></th>\n",
       "      <th>ClaimNumber</th>\n",
       "      <th>DateTimeOfAccident</th>\n",
       "      <th>DateReported</th>\n",
       "      <th>Age</th>\n",
       "      <th>Gender</th>\n",
       "      <th>MaritalStatus</th>\n",
       "      <th>DependentChildren</th>\n",
       "      <th>DependentsOther</th>\n",
       "      <th>WeeklyWages</th>\n",
       "      <th>PartTimeFullTime</th>\n",
       "      <th>HoursWorkedPerWeek</th>\n",
       "      <th>DaysWorkedPerWeek</th>\n",
       "      <th>ClaimDescription</th>\n",
       "      <th>InitialIncurredCalimsCost</th>\n",
       "      <th>UltimateIncurredClaimCost</th>\n",
       "    </tr>\n",
       "  </thead>\n",
       "  <tbody>\n",
       "    <tr>\n",
       "      <th>0</th>\n",
       "      <td>WC8285054</td>\n",
       "      <td>2002-04-09T07:00:00Z</td>\n",
       "      <td>2002-07-05T00:00:00Z</td>\n",
       "      <td>48</td>\n",
       "      <td>M</td>\n",
       "      <td>M</td>\n",
       "      <td>0</td>\n",
       "      <td>0</td>\n",
       "      <td>500.00</td>\n",
       "      <td>F</td>\n",
       "      <td>38.0</td>\n",
       "      <td>5</td>\n",
       "      <td>LIFTING TYRE INJURY TO RIGHT ARM AND WRIST INJURY</td>\n",
       "      <td>1500</td>\n",
       "      <td>4748.203388</td>\n",
       "    </tr>\n",
       "    <tr>\n",
       "      <th>1</th>\n",
       "      <td>WC6982224</td>\n",
       "      <td>1999-01-07T11:00:00Z</td>\n",
       "      <td>1999-01-20T00:00:00Z</td>\n",
       "      <td>43</td>\n",
       "      <td>F</td>\n",
       "      <td>M</td>\n",
       "      <td>0</td>\n",
       "      <td>0</td>\n",
       "      <td>509.34</td>\n",
       "      <td>F</td>\n",
       "      <td>37.5</td>\n",
       "      <td>5</td>\n",
       "      <td>STEPPED AROUND CRATES AND TRUCK TRAY FRACTURE ...</td>\n",
       "      <td>5500</td>\n",
       "      <td>6326.285819</td>\n",
       "    </tr>\n",
       "    <tr>\n",
       "      <th>2</th>\n",
       "      <td>WC5481426</td>\n",
       "      <td>1996-03-25T00:00:00Z</td>\n",
       "      <td>1996-04-14T00:00:00Z</td>\n",
       "      <td>30</td>\n",
       "      <td>M</td>\n",
       "      <td>U</td>\n",
       "      <td>0</td>\n",
       "      <td>0</td>\n",
       "      <td>709.10</td>\n",
       "      <td>F</td>\n",
       "      <td>38.0</td>\n",
       "      <td>5</td>\n",
       "      <td>CUT ON SHARP EDGE CUT LEFT THUMB</td>\n",
       "      <td>1700</td>\n",
       "      <td>2293.949087</td>\n",
       "    </tr>\n",
       "    <tr>\n",
       "      <th>3</th>\n",
       "      <td>WC9775968</td>\n",
       "      <td>2005-06-22T13:00:00Z</td>\n",
       "      <td>2005-07-22T00:00:00Z</td>\n",
       "      <td>41</td>\n",
       "      <td>M</td>\n",
       "      <td>S</td>\n",
       "      <td>0</td>\n",
       "      <td>0</td>\n",
       "      <td>555.46</td>\n",
       "      <td>F</td>\n",
       "      <td>38.0</td>\n",
       "      <td>5</td>\n",
       "      <td>DIGGING LOWER BACK LOWER BACK STRAIN</td>\n",
       "      <td>15000</td>\n",
       "      <td>17786.487170</td>\n",
       "    </tr>\n",
       "    <tr>\n",
       "      <th>4</th>\n",
       "      <td>WC2634037</td>\n",
       "      <td>1990-08-29T08:00:00Z</td>\n",
       "      <td>1990-09-27T00:00:00Z</td>\n",
       "      <td>36</td>\n",
       "      <td>M</td>\n",
       "      <td>M</td>\n",
       "      <td>0</td>\n",
       "      <td>0</td>\n",
       "      <td>377.10</td>\n",
       "      <td>F</td>\n",
       "      <td>38.0</td>\n",
       "      <td>5</td>\n",
       "      <td>REACHING ABOVE SHOULDER LEVEL ACUTE MUSCLE STR...</td>\n",
       "      <td>2800</td>\n",
       "      <td>4014.002925</td>\n",
       "    </tr>\n",
       "  </tbody>\n",
       "</table>\n",
       "</div>\n",
       "      <button class=\"colab-df-convert\" onclick=\"convertToInteractive('df-724037b9-e60e-40ef-9469-27d28a3d3fdd')\"\n",
       "              title=\"Convert this dataframe to an interactive table.\"\n",
       "              style=\"display:none;\">\n",
       "        \n",
       "  <svg xmlns=\"http://www.w3.org/2000/svg\" height=\"24px\"viewBox=\"0 0 24 24\"\n",
       "       width=\"24px\">\n",
       "    <path d=\"M0 0h24v24H0V0z\" fill=\"none\"/>\n",
       "    <path d=\"M18.56 5.44l.94 2.06.94-2.06 2.06-.94-2.06-.94-.94-2.06-.94 2.06-2.06.94zm-11 1L8.5 8.5l.94-2.06 2.06-.94-2.06-.94L8.5 2.5l-.94 2.06-2.06.94zm10 10l.94 2.06.94-2.06 2.06-.94-2.06-.94-.94-2.06-.94 2.06-2.06.94z\"/><path d=\"M17.41 7.96l-1.37-1.37c-.4-.4-.92-.59-1.43-.59-.52 0-1.04.2-1.43.59L10.3 9.45l-7.72 7.72c-.78.78-.78 2.05 0 2.83L4 21.41c.39.39.9.59 1.41.59.51 0 1.02-.2 1.41-.59l7.78-7.78 2.81-2.81c.8-.78.8-2.07 0-2.86zM5.41 20L4 18.59l7.72-7.72 1.47 1.35L5.41 20z\"/>\n",
       "  </svg>\n",
       "      </button>\n",
       "      \n",
       "  <style>\n",
       "    .colab-df-container {\n",
       "      display:flex;\n",
       "      flex-wrap:wrap;\n",
       "      gap: 12px;\n",
       "    }\n",
       "\n",
       "    .colab-df-convert {\n",
       "      background-color: #E8F0FE;\n",
       "      border: none;\n",
       "      border-radius: 50%;\n",
       "      cursor: pointer;\n",
       "      display: none;\n",
       "      fill: #1967D2;\n",
       "      height: 32px;\n",
       "      padding: 0 0 0 0;\n",
       "      width: 32px;\n",
       "    }\n",
       "\n",
       "    .colab-df-convert:hover {\n",
       "      background-color: #E2EBFA;\n",
       "      box-shadow: 0px 1px 2px rgba(60, 64, 67, 0.3), 0px 1px 3px 1px rgba(60, 64, 67, 0.15);\n",
       "      fill: #174EA6;\n",
       "    }\n",
       "\n",
       "    [theme=dark] .colab-df-convert {\n",
       "      background-color: #3B4455;\n",
       "      fill: #D2E3FC;\n",
       "    }\n",
       "\n",
       "    [theme=dark] .colab-df-convert:hover {\n",
       "      background-color: #434B5C;\n",
       "      box-shadow: 0px 1px 3px 1px rgba(0, 0, 0, 0.15);\n",
       "      filter: drop-shadow(0px 1px 2px rgba(0, 0, 0, 0.3));\n",
       "      fill: #FFFFFF;\n",
       "    }\n",
       "  </style>\n",
       "\n",
       "      <script>\n",
       "        const buttonEl =\n",
       "          document.querySelector('#df-724037b9-e60e-40ef-9469-27d28a3d3fdd button.colab-df-convert');\n",
       "        buttonEl.style.display =\n",
       "          google.colab.kernel.accessAllowed ? 'block' : 'none';\n",
       "\n",
       "        async function convertToInteractive(key) {\n",
       "          const element = document.querySelector('#df-724037b9-e60e-40ef-9469-27d28a3d3fdd');\n",
       "          const dataTable =\n",
       "            await google.colab.kernel.invokeFunction('convertToInteractive',\n",
       "                                                     [key], {});\n",
       "          if (!dataTable) return;\n",
       "\n",
       "          const docLinkHtml = 'Like what you see? Visit the ' +\n",
       "            '<a target=\"_blank\" href=https://colab.research.google.com/notebooks/data_table.ipynb>data table notebook</a>'\n",
       "            + ' to learn more about interactive tables.';\n",
       "          element.innerHTML = '';\n",
       "          dataTable['output_type'] = 'display_data';\n",
       "          await google.colab.output.renderOutput(dataTable, element);\n",
       "          const docLink = document.createElement('div');\n",
       "          docLink.innerHTML = docLinkHtml;\n",
       "          element.appendChild(docLink);\n",
       "        }\n",
       "      </script>\n",
       "    </div>\n",
       "  </div>\n",
       "  "
      ],
      "text/plain": [
       "  ClaimNumber    DateTimeOfAccident          DateReported  Age Gender  \\\n",
       "0   WC8285054  2002-04-09T07:00:00Z  2002-07-05T00:00:00Z   48      M   \n",
       "1   WC6982224  1999-01-07T11:00:00Z  1999-01-20T00:00:00Z   43      F   \n",
       "2   WC5481426  1996-03-25T00:00:00Z  1996-04-14T00:00:00Z   30      M   \n",
       "3   WC9775968  2005-06-22T13:00:00Z  2005-07-22T00:00:00Z   41      M   \n",
       "4   WC2634037  1990-08-29T08:00:00Z  1990-09-27T00:00:00Z   36      M   \n",
       "\n",
       "  MaritalStatus  DependentChildren  DependentsOther  WeeklyWages  \\\n",
       "0             M                  0                0       500.00   \n",
       "1             M                  0                0       509.34   \n",
       "2             U                  0                0       709.10   \n",
       "3             S                  0                0       555.46   \n",
       "4             M                  0                0       377.10   \n",
       "\n",
       "  PartTimeFullTime  HoursWorkedPerWeek  DaysWorkedPerWeek  \\\n",
       "0                F                38.0                  5   \n",
       "1                F                37.5                  5   \n",
       "2                F                38.0                  5   \n",
       "3                F                38.0                  5   \n",
       "4                F                38.0                  5   \n",
       "\n",
       "                                    ClaimDescription  \\\n",
       "0  LIFTING TYRE INJURY TO RIGHT ARM AND WRIST INJURY   \n",
       "1  STEPPED AROUND CRATES AND TRUCK TRAY FRACTURE ...   \n",
       "2                   CUT ON SHARP EDGE CUT LEFT THUMB   \n",
       "3               DIGGING LOWER BACK LOWER BACK STRAIN   \n",
       "4  REACHING ABOVE SHOULDER LEVEL ACUTE MUSCLE STR...   \n",
       "\n",
       "   InitialIncurredCalimsCost  UltimateIncurredClaimCost  \n",
       "0                       1500                4748.203388  \n",
       "1                       5500                6326.285819  \n",
       "2                       1700                2293.949087  \n",
       "3                      15000               17786.487170  \n",
       "4                       2800                4014.002925  "
      ]
     },
     "execution_count": 3,
     "metadata": {},
     "output_type": "execute_result"
    }
   ],
   "source": [
    "#Checked the dataframe for training dataset\n",
    "Train_Dataset.head()"
   ]
  },
  {
   "cell_type": "markdown",
   "id": "a946f4c3",
   "metadata": {
    "id": "a946f4c3"
   },
   "source": [
    "#### Renaming the column names in train dataset headings as it is \"unnamed\" "
   ]
  },
  {
   "cell_type": "code",
   "execution_count": null,
   "id": "14ebbf41",
   "metadata": {
    "id": "14ebbf41"
   },
   "outputs": [],
   "source": [
    "Train_Dataset=Train_Dataset.rename(columns={\"Unnamed: 0\":\"ClaimNumber\",\"Unnamed: 1\":\"DateTimeOfAccident\",\"Unnamed: 3\":\"Age\",\"Unnamed: 4\":\"Gender\",\n",
    "                      \"Unnamed: 5\":\"MaritalStatus\",\"Unnamed: 6\":\"DependentChildren\",\"Unnamed: 8\":\"WeeklyWages\",\n",
    "                      \"Unnamed: 9\":\"PartTimeFullTime\",\"Unnamed: 10\":\"HoursWorkedPerWeek\",\"Unnamed: 12\":\"ClaimDescription\",\n",
    "                      \"Unnamed: 13\":\"InitialIncurredCalimsCost\",\"Unnamed: 14\":'UltimateIncurredClaimCost'},inplace=False)"
   ]
  },
  {
   "cell_type": "markdown",
   "id": "715341ad",
   "metadata": {
    "id": "715341ad"
   },
   "source": [
    "#### Dropping the first row as it has the few repeated column names in train dataset"
   ]
  },
  {
   "cell_type": "code",
   "execution_count": null,
   "id": "a36126e0",
   "metadata": {
    "colab": {
     "base_uri": "https://localhost:8080/",
     "height": 513
    },
    "id": "a36126e0",
    "outputId": "64134964-84fe-4f56-cf65-041d7009fd7b"
   },
   "outputs": [
    {
     "data": {
      "text/html": [
       "\n",
       "  <div id=\"df-3222554f-738d-43e1-af14-16cc1ad06764\">\n",
       "    <div class=\"colab-df-container\">\n",
       "      <div>\n",
       "<style scoped>\n",
       "    .dataframe tbody tr th:only-of-type {\n",
       "        vertical-align: middle;\n",
       "    }\n",
       "\n",
       "    .dataframe tbody tr th {\n",
       "        vertical-align: top;\n",
       "    }\n",
       "\n",
       "    .dataframe thead th {\n",
       "        text-align: right;\n",
       "    }\n",
       "</style>\n",
       "<table border=\"1\" class=\"dataframe\">\n",
       "  <thead>\n",
       "    <tr style=\"text-align: right;\">\n",
       "      <th></th>\n",
       "      <th>ClaimNumber</th>\n",
       "      <th>DateTimeOfAccident</th>\n",
       "      <th>DateReported</th>\n",
       "      <th>Age</th>\n",
       "      <th>Gender</th>\n",
       "      <th>MaritalStatus</th>\n",
       "      <th>DependentChildren</th>\n",
       "      <th>DependentsOther</th>\n",
       "      <th>WeeklyWages</th>\n",
       "      <th>PartTimeFullTime</th>\n",
       "      <th>HoursWorkedPerWeek</th>\n",
       "      <th>DaysWorkedPerWeek</th>\n",
       "      <th>ClaimDescription</th>\n",
       "      <th>InitialIncurredCalimsCost</th>\n",
       "      <th>UltimateIncurredClaimCost</th>\n",
       "    </tr>\n",
       "  </thead>\n",
       "  <tbody>\n",
       "    <tr>\n",
       "      <th>1</th>\n",
       "      <td>WC6982224</td>\n",
       "      <td>1999-01-07T11:00:00Z</td>\n",
       "      <td>1999-01-20T00:00:00Z</td>\n",
       "      <td>43</td>\n",
       "      <td>F</td>\n",
       "      <td>M</td>\n",
       "      <td>0</td>\n",
       "      <td>0</td>\n",
       "      <td>509.34</td>\n",
       "      <td>F</td>\n",
       "      <td>37.5</td>\n",
       "      <td>5</td>\n",
       "      <td>STEPPED AROUND CRATES AND TRUCK TRAY FRACTURE ...</td>\n",
       "      <td>5500</td>\n",
       "      <td>6326.285819</td>\n",
       "    </tr>\n",
       "    <tr>\n",
       "      <th>2</th>\n",
       "      <td>WC5481426</td>\n",
       "      <td>1996-03-25T00:00:00Z</td>\n",
       "      <td>1996-04-14T00:00:00Z</td>\n",
       "      <td>30</td>\n",
       "      <td>M</td>\n",
       "      <td>U</td>\n",
       "      <td>0</td>\n",
       "      <td>0</td>\n",
       "      <td>709.10</td>\n",
       "      <td>F</td>\n",
       "      <td>38.0</td>\n",
       "      <td>5</td>\n",
       "      <td>CUT ON SHARP EDGE CUT LEFT THUMB</td>\n",
       "      <td>1700</td>\n",
       "      <td>2293.949087</td>\n",
       "    </tr>\n",
       "    <tr>\n",
       "      <th>3</th>\n",
       "      <td>WC9775968</td>\n",
       "      <td>2005-06-22T13:00:00Z</td>\n",
       "      <td>2005-07-22T00:00:00Z</td>\n",
       "      <td>41</td>\n",
       "      <td>M</td>\n",
       "      <td>S</td>\n",
       "      <td>0</td>\n",
       "      <td>0</td>\n",
       "      <td>555.46</td>\n",
       "      <td>F</td>\n",
       "      <td>38.0</td>\n",
       "      <td>5</td>\n",
       "      <td>DIGGING LOWER BACK LOWER BACK STRAIN</td>\n",
       "      <td>15000</td>\n",
       "      <td>17786.487170</td>\n",
       "    </tr>\n",
       "    <tr>\n",
       "      <th>4</th>\n",
       "      <td>WC2634037</td>\n",
       "      <td>1990-08-29T08:00:00Z</td>\n",
       "      <td>1990-09-27T00:00:00Z</td>\n",
       "      <td>36</td>\n",
       "      <td>M</td>\n",
       "      <td>M</td>\n",
       "      <td>0</td>\n",
       "      <td>0</td>\n",
       "      <td>377.10</td>\n",
       "      <td>F</td>\n",
       "      <td>38.0</td>\n",
       "      <td>5</td>\n",
       "      <td>REACHING ABOVE SHOULDER LEVEL ACUTE MUSCLE STR...</td>\n",
       "      <td>2800</td>\n",
       "      <td>4014.002925</td>\n",
       "    </tr>\n",
       "    <tr>\n",
       "      <th>5</th>\n",
       "      <td>WC6828422</td>\n",
       "      <td>1999-06-21T11:00:00Z</td>\n",
       "      <td>1999-09-09T00:00:00Z</td>\n",
       "      <td>50</td>\n",
       "      <td>M</td>\n",
       "      <td>M</td>\n",
       "      <td>0</td>\n",
       "      <td>0</td>\n",
       "      <td>200.00</td>\n",
       "      <td>F</td>\n",
       "      <td>38.0</td>\n",
       "      <td>5</td>\n",
       "      <td>STRUCK HEAD ON HEAD LACERATED HEAD</td>\n",
       "      <td>500</td>\n",
       "      <td>598.762315</td>\n",
       "    </tr>\n",
       "  </tbody>\n",
       "</table>\n",
       "</div>\n",
       "      <button class=\"colab-df-convert\" onclick=\"convertToInteractive('df-3222554f-738d-43e1-af14-16cc1ad06764')\"\n",
       "              title=\"Convert this dataframe to an interactive table.\"\n",
       "              style=\"display:none;\">\n",
       "        \n",
       "  <svg xmlns=\"http://www.w3.org/2000/svg\" height=\"24px\"viewBox=\"0 0 24 24\"\n",
       "       width=\"24px\">\n",
       "    <path d=\"M0 0h24v24H0V0z\" fill=\"none\"/>\n",
       "    <path d=\"M18.56 5.44l.94 2.06.94-2.06 2.06-.94-2.06-.94-.94-2.06-.94 2.06-2.06.94zm-11 1L8.5 8.5l.94-2.06 2.06-.94-2.06-.94L8.5 2.5l-.94 2.06-2.06.94zm10 10l.94 2.06.94-2.06 2.06-.94-2.06-.94-.94-2.06-.94 2.06-2.06.94z\"/><path d=\"M17.41 7.96l-1.37-1.37c-.4-.4-.92-.59-1.43-.59-.52 0-1.04.2-1.43.59L10.3 9.45l-7.72 7.72c-.78.78-.78 2.05 0 2.83L4 21.41c.39.39.9.59 1.41.59.51 0 1.02-.2 1.41-.59l7.78-7.78 2.81-2.81c.8-.78.8-2.07 0-2.86zM5.41 20L4 18.59l7.72-7.72 1.47 1.35L5.41 20z\"/>\n",
       "  </svg>\n",
       "      </button>\n",
       "      \n",
       "  <style>\n",
       "    .colab-df-container {\n",
       "      display:flex;\n",
       "      flex-wrap:wrap;\n",
       "      gap: 12px;\n",
       "    }\n",
       "\n",
       "    .colab-df-convert {\n",
       "      background-color: #E8F0FE;\n",
       "      border: none;\n",
       "      border-radius: 50%;\n",
       "      cursor: pointer;\n",
       "      display: none;\n",
       "      fill: #1967D2;\n",
       "      height: 32px;\n",
       "      padding: 0 0 0 0;\n",
       "      width: 32px;\n",
       "    }\n",
       "\n",
       "    .colab-df-convert:hover {\n",
       "      background-color: #E2EBFA;\n",
       "      box-shadow: 0px 1px 2px rgba(60, 64, 67, 0.3), 0px 1px 3px 1px rgba(60, 64, 67, 0.15);\n",
       "      fill: #174EA6;\n",
       "    }\n",
       "\n",
       "    [theme=dark] .colab-df-convert {\n",
       "      background-color: #3B4455;\n",
       "      fill: #D2E3FC;\n",
       "    }\n",
       "\n",
       "    [theme=dark] .colab-df-convert:hover {\n",
       "      background-color: #434B5C;\n",
       "      box-shadow: 0px 1px 3px 1px rgba(0, 0, 0, 0.15);\n",
       "      filter: drop-shadow(0px 1px 2px rgba(0, 0, 0, 0.3));\n",
       "      fill: #FFFFFF;\n",
       "    }\n",
       "  </style>\n",
       "\n",
       "      <script>\n",
       "        const buttonEl =\n",
       "          document.querySelector('#df-3222554f-738d-43e1-af14-16cc1ad06764 button.colab-df-convert');\n",
       "        buttonEl.style.display =\n",
       "          google.colab.kernel.accessAllowed ? 'block' : 'none';\n",
       "\n",
       "        async function convertToInteractive(key) {\n",
       "          const element = document.querySelector('#df-3222554f-738d-43e1-af14-16cc1ad06764');\n",
       "          const dataTable =\n",
       "            await google.colab.kernel.invokeFunction('convertToInteractive',\n",
       "                                                     [key], {});\n",
       "          if (!dataTable) return;\n",
       "\n",
       "          const docLinkHtml = 'Like what you see? Visit the ' +\n",
       "            '<a target=\"_blank\" href=https://colab.research.google.com/notebooks/data_table.ipynb>data table notebook</a>'\n",
       "            + ' to learn more about interactive tables.';\n",
       "          element.innerHTML = '';\n",
       "          dataTable['output_type'] = 'display_data';\n",
       "          await google.colab.output.renderOutput(dataTable, element);\n",
       "          const docLink = document.createElement('div');\n",
       "          docLink.innerHTML = docLinkHtml;\n",
       "          element.appendChild(docLink);\n",
       "        }\n",
       "      </script>\n",
       "    </div>\n",
       "  </div>\n",
       "  "
      ],
      "text/plain": [
       "  ClaimNumber    DateTimeOfAccident          DateReported  Age Gender  \\\n",
       "1   WC6982224  1999-01-07T11:00:00Z  1999-01-20T00:00:00Z   43      F   \n",
       "2   WC5481426  1996-03-25T00:00:00Z  1996-04-14T00:00:00Z   30      M   \n",
       "3   WC9775968  2005-06-22T13:00:00Z  2005-07-22T00:00:00Z   41      M   \n",
       "4   WC2634037  1990-08-29T08:00:00Z  1990-09-27T00:00:00Z   36      M   \n",
       "5   WC6828422  1999-06-21T11:00:00Z  1999-09-09T00:00:00Z   50      M   \n",
       "\n",
       "  MaritalStatus  DependentChildren  DependentsOther  WeeklyWages  \\\n",
       "1             M                  0                0       509.34   \n",
       "2             U                  0                0       709.10   \n",
       "3             S                  0                0       555.46   \n",
       "4             M                  0                0       377.10   \n",
       "5             M                  0                0       200.00   \n",
       "\n",
       "  PartTimeFullTime  HoursWorkedPerWeek  DaysWorkedPerWeek  \\\n",
       "1                F                37.5                  5   \n",
       "2                F                38.0                  5   \n",
       "3                F                38.0                  5   \n",
       "4                F                38.0                  5   \n",
       "5                F                38.0                  5   \n",
       "\n",
       "                                    ClaimDescription  \\\n",
       "1  STEPPED AROUND CRATES AND TRUCK TRAY FRACTURE ...   \n",
       "2                   CUT ON SHARP EDGE CUT LEFT THUMB   \n",
       "3               DIGGING LOWER BACK LOWER BACK STRAIN   \n",
       "4  REACHING ABOVE SHOULDER LEVEL ACUTE MUSCLE STR...   \n",
       "5                 STRUCK HEAD ON HEAD LACERATED HEAD   \n",
       "\n",
       "   InitialIncurredCalimsCost  UltimateIncurredClaimCost  \n",
       "1                       5500                6326.285819  \n",
       "2                       1700                2293.949087  \n",
       "3                      15000               17786.487170  \n",
       "4                       2800                4014.002925  \n",
       "5                        500                 598.762315  "
      ]
     },
     "execution_count": 5,
     "metadata": {},
     "output_type": "execute_result"
    }
   ],
   "source": [
    "Train_Dataset=Train_Dataset.drop(Train_Dataset.index[0])\n",
    "Train_Dataset.head()"
   ]
  },
  {
   "cell_type": "markdown",
   "id": "c4f76ebf",
   "metadata": {
    "id": "c4f76ebf"
   },
   "source": [
    "### Data Frame Summary"
   ]
  },
  {
   "cell_type": "code",
   "execution_count": null,
   "id": "5cd4fc36",
   "metadata": {
    "colab": {
     "base_uri": "https://localhost:8080/"
    },
    "id": "5cd4fc36",
    "outputId": "be07829d-98f9-4d75-d8bf-45ed4bd83063"
   },
   "outputs": [
    {
     "name": "stdout",
     "output_type": "stream",
     "text": [
      "<class 'pandas.core.frame.DataFrame'>\n",
      "Int64Index: 53999 entries, 1 to 53999\n",
      "Data columns (total 15 columns):\n",
      " #   Column                     Non-Null Count  Dtype  \n",
      "---  ------                     --------------  -----  \n",
      " 0   ClaimNumber                53999 non-null  object \n",
      " 1   DateTimeOfAccident         53999 non-null  object \n",
      " 2   DateReported               53999 non-null  object \n",
      " 3   Age                        53999 non-null  int64  \n",
      " 4   Gender                     53999 non-null  object \n",
      " 5   MaritalStatus              53970 non-null  object \n",
      " 6   DependentChildren          53999 non-null  int64  \n",
      " 7   DependentsOther            53999 non-null  int64  \n",
      " 8   WeeklyWages                53999 non-null  float64\n",
      " 9   PartTimeFullTime           53999 non-null  object \n",
      " 10  HoursWorkedPerWeek         53999 non-null  float64\n",
      " 11  DaysWorkedPerWeek          53999 non-null  int64  \n",
      " 12  ClaimDescription           53999 non-null  object \n",
      " 13  InitialIncurredCalimsCost  53999 non-null  int64  \n",
      " 14  UltimateIncurredClaimCost  53999 non-null  float64\n",
      "dtypes: float64(3), int64(5), object(7)\n",
      "memory usage: 6.6+ MB\n"
     ]
    }
   ],
   "source": [
    "#summary of training data\n",
    "Train_Dataset.info()"
   ]
  },
  {
   "cell_type": "code",
   "execution_count": null,
   "id": "91ff1a77",
   "metadata": {
    "colab": {
     "base_uri": "https://localhost:8080/"
    },
    "id": "91ff1a77",
    "outputId": "f56dfc5d-605c-4e16-e8b0-d4de43b82afd"
   },
   "outputs": [
    {
     "name": "stdout",
     "output_type": "stream",
     "text": [
      "<class 'pandas.core.frame.DataFrame'>\n",
      "RangeIndex: 36000 entries, 0 to 35999\n",
      "Data columns (total 14 columns):\n",
      " #   Column                     Non-Null Count  Dtype  \n",
      "---  ------                     --------------  -----  \n",
      " 0   ClaimNumber                36000 non-null  object \n",
      " 1   DateTimeOfAccident         36000 non-null  object \n",
      " 2   DateReported               36000 non-null  object \n",
      " 3   Age                        36000 non-null  int64  \n",
      " 4   Gender                     36000 non-null  object \n",
      " 5   MaritalStatus              35982 non-null  object \n",
      " 6   DependentChildren          36000 non-null  int64  \n",
      " 7   DependentsOther            36000 non-null  int64  \n",
      " 8   WeeklyWages                36000 non-null  float64\n",
      " 9   PartTimeFullTime           36000 non-null  object \n",
      " 10  HoursWorkedPerWeek         36000 non-null  float64\n",
      " 11  DaysWorkedPerWeek          36000 non-null  int64  \n",
      " 12  ClaimDescription           36000 non-null  object \n",
      " 13  InitialIncurredCalimsCost  36000 non-null  int64  \n",
      "dtypes: float64(2), int64(5), object(7)\n",
      "memory usage: 3.8+ MB\n"
     ]
    }
   ],
   "source": [
    "#summary of test data\n",
    "Test_Dataset.info()"
   ]
  },
  {
   "cell_type": "code",
   "execution_count": null,
   "id": "6fb0fa7f",
   "metadata": {
    "colab": {
     "base_uri": "https://localhost:8080/"
    },
    "id": "6fb0fa7f",
    "outputId": "6f491b35-5bd3-4956-b014-5337de1ac40e"
   },
   "outputs": [
    {
     "data": {
      "text/plain": [
       "Index(['ClaimNumber', 'DateTimeOfAccident', 'DateReported', 'Gender',\n",
       "       'MaritalStatus', 'PartTimeFullTime', 'ClaimDescription'],\n",
       "      dtype='object')"
      ]
     },
     "execution_count": 8,
     "metadata": {},
     "output_type": "execute_result"
    }
   ],
   "source": [
    "#Checking for Categorical Data based on datatypes in train data\n",
    "Train_Dataset.select_dtypes(exclude=['int64','float64']).columns "
   ]
  },
  {
   "cell_type": "markdown",
   "id": "c2797fde",
   "metadata": {
    "id": "c2797fde"
   },
   "source": [
    "##### Changing the data type for required columns in train data (Converting to Numeric Data)"
   ]
  },
  {
   "cell_type": "code",
   "execution_count": null,
   "id": "e3dd0745",
   "metadata": {
    "id": "e3dd0745"
   },
   "outputs": [],
   "source": [
    "Train_Dataset['Age'] = pd.to_numeric(Train_Dataset['Age']) \n",
    "Train_Dataset['DependentChildren'] = pd.to_numeric(Train_Dataset['DependentChildren'])\n",
    "Train_Dataset['DependentsOther'] = pd.to_numeric(Train_Dataset['DependentsOther'])\n",
    "Train_Dataset['WeeklyWages'] = pd.to_numeric(Train_Dataset['WeeklyWages'])\n",
    "Train_Dataset['HoursWorkedPerWeek'] = pd.to_numeric(Train_Dataset['HoursWorkedPerWeek'])\n",
    "Train_Dataset['DaysWorkedPerWeek'] = pd.to_numeric(Train_Dataset['DaysWorkedPerWeek'])\n",
    "Train_Dataset['InitialIncurredCalimsCost'] = pd.to_numeric(Train_Dataset['InitialIncurredCalimsCost'])\n",
    "Train_Dataset['UltimateIncurredClaimCost'] = pd.to_numeric(Train_Dataset['UltimateIncurredClaimCost'])"
   ]
  },
  {
   "cell_type": "markdown",
   "id": "e5207489",
   "metadata": {
    "id": "e5207489"
   },
   "source": [
    "##### To check Updated Dtype - if the data type changed or not "
   ]
  },
  {
   "cell_type": "code",
   "execution_count": null,
   "id": "dff1631b",
   "metadata": {
    "colab": {
     "base_uri": "https://localhost:8080/"
    },
    "id": "dff1631b",
    "outputId": "913003d8-4466-4918-b600-356d28860d6a"
   },
   "outputs": [
    {
     "name": "stdout",
     "output_type": "stream",
     "text": [
      "<class 'pandas.core.frame.DataFrame'>\n",
      "Int64Index: 53999 entries, 1 to 53999\n",
      "Data columns (total 15 columns):\n",
      " #   Column                     Non-Null Count  Dtype  \n",
      "---  ------                     --------------  -----  \n",
      " 0   ClaimNumber                53999 non-null  object \n",
      " 1   DateTimeOfAccident         53999 non-null  object \n",
      " 2   DateReported               53999 non-null  object \n",
      " 3   Age                        53999 non-null  int64  \n",
      " 4   Gender                     53999 non-null  object \n",
      " 5   MaritalStatus              53970 non-null  object \n",
      " 6   DependentChildren          53999 non-null  int64  \n",
      " 7   DependentsOther            53999 non-null  int64  \n",
      " 8   WeeklyWages                53999 non-null  float64\n",
      " 9   PartTimeFullTime           53999 non-null  object \n",
      " 10  HoursWorkedPerWeek         53999 non-null  float64\n",
      " 11  DaysWorkedPerWeek          53999 non-null  int64  \n",
      " 12  ClaimDescription           53999 non-null  object \n",
      " 13  InitialIncurredCalimsCost  53999 non-null  int64  \n",
      " 14  UltimateIncurredClaimCost  53999 non-null  float64\n",
      "dtypes: float64(3), int64(5), object(7)\n",
      "memory usage: 6.6+ MB\n"
     ]
    }
   ],
   "source": [
    "Train_Dataset.info()"
   ]
  },
  {
   "cell_type": "code",
   "execution_count": null,
   "id": "e2861665",
   "metadata": {
    "colab": {
     "base_uri": "https://localhost:8080/",
     "height": 365
    },
    "id": "e2861665",
    "outputId": "8a33ad0e-a239-4d11-886c-30eeb1410877",
    "scrolled": true
   },
   "outputs": [
    {
     "data": {
      "text/html": [
       "\n",
       "  <div id=\"df-a66be1a4-524b-4937-b11b-f9e3138fb3c8\">\n",
       "    <div class=\"colab-df-container\">\n",
       "      <div>\n",
       "<style scoped>\n",
       "    .dataframe tbody tr th:only-of-type {\n",
       "        vertical-align: middle;\n",
       "    }\n",
       "\n",
       "    .dataframe tbody tr th {\n",
       "        vertical-align: top;\n",
       "    }\n",
       "\n",
       "    .dataframe thead th {\n",
       "        text-align: right;\n",
       "    }\n",
       "</style>\n",
       "<table border=\"1\" class=\"dataframe\">\n",
       "  <thead>\n",
       "    <tr style=\"text-align: right;\">\n",
       "      <th></th>\n",
       "      <th>Age</th>\n",
       "      <th>DependentChildren</th>\n",
       "      <th>DependentsOther</th>\n",
       "      <th>WeeklyWages</th>\n",
       "      <th>HoursWorkedPerWeek</th>\n",
       "      <th>DaysWorkedPerWeek</th>\n",
       "      <th>InitialIncurredCalimsCost</th>\n",
       "      <th>UltimateIncurredClaimCost</th>\n",
       "    </tr>\n",
       "  </thead>\n",
       "  <tbody>\n",
       "    <tr>\n",
       "      <th>count</th>\n",
       "      <td>53999.000000</td>\n",
       "      <td>53999.000000</td>\n",
       "      <td>53999.000000</td>\n",
       "      <td>53999.000000</td>\n",
       "      <td>53999.00000</td>\n",
       "      <td>53999.000000</td>\n",
       "      <td>5.399900e+04</td>\n",
       "      <td>5.399900e+04</td>\n",
       "    </tr>\n",
       "    <tr>\n",
       "      <th>mean</th>\n",
       "      <td>33.842108</td>\n",
       "      <td>0.119187</td>\n",
       "      <td>0.009945</td>\n",
       "      <td>416.363259</td>\n",
       "      <td>37.73508</td>\n",
       "      <td>4.905758</td>\n",
       "      <td>7.841263e+03</td>\n",
       "      <td>1.100349e+04</td>\n",
       "    </tr>\n",
       "    <tr>\n",
       "      <th>std</th>\n",
       "      <td>12.122124</td>\n",
       "      <td>0.517785</td>\n",
       "      <td>0.109349</td>\n",
       "      <td>248.640710</td>\n",
       "      <td>12.56882</td>\n",
       "      <td>0.552134</td>\n",
       "      <td>2.058425e+04</td>\n",
       "      <td>3.339129e+04</td>\n",
       "    </tr>\n",
       "    <tr>\n",
       "      <th>min</th>\n",
       "      <td>13.000000</td>\n",
       "      <td>0.000000</td>\n",
       "      <td>0.000000</td>\n",
       "      <td>1.000000</td>\n",
       "      <td>0.00000</td>\n",
       "      <td>1.000000</td>\n",
       "      <td>1.000000e+00</td>\n",
       "      <td>1.218868e+02</td>\n",
       "    </tr>\n",
       "    <tr>\n",
       "      <th>25%</th>\n",
       "      <td>23.000000</td>\n",
       "      <td>0.000000</td>\n",
       "      <td>0.000000</td>\n",
       "      <td>200.000000</td>\n",
       "      <td>38.00000</td>\n",
       "      <td>5.000000</td>\n",
       "      <td>7.000000e+02</td>\n",
       "      <td>9.263174e+02</td>\n",
       "    </tr>\n",
       "    <tr>\n",
       "      <th>50%</th>\n",
       "      <td>32.000000</td>\n",
       "      <td>0.000000</td>\n",
       "      <td>0.000000</td>\n",
       "      <td>392.200000</td>\n",
       "      <td>38.00000</td>\n",
       "      <td>5.000000</td>\n",
       "      <td>2.000000e+03</td>\n",
       "      <td>3.371116e+03</td>\n",
       "    </tr>\n",
       "    <tr>\n",
       "      <th>75%</th>\n",
       "      <td>43.000000</td>\n",
       "      <td>0.000000</td>\n",
       "      <td>0.000000</td>\n",
       "      <td>500.000000</td>\n",
       "      <td>40.00000</td>\n",
       "      <td>5.000000</td>\n",
       "      <td>9.500000e+03</td>\n",
       "      <td>8.197288e+03</td>\n",
       "    </tr>\n",
       "    <tr>\n",
       "      <th>max</th>\n",
       "      <td>81.000000</td>\n",
       "      <td>9.000000</td>\n",
       "      <td>5.000000</td>\n",
       "      <td>7497.000000</td>\n",
       "      <td>640.00000</td>\n",
       "      <td>7.000000</td>\n",
       "      <td>2.000000e+06</td>\n",
       "      <td>4.027136e+06</td>\n",
       "    </tr>\n",
       "  </tbody>\n",
       "</table>\n",
       "</div>\n",
       "      <button class=\"colab-df-convert\" onclick=\"convertToInteractive('df-a66be1a4-524b-4937-b11b-f9e3138fb3c8')\"\n",
       "              title=\"Convert this dataframe to an interactive table.\"\n",
       "              style=\"display:none;\">\n",
       "        \n",
       "  <svg xmlns=\"http://www.w3.org/2000/svg\" height=\"24px\"viewBox=\"0 0 24 24\"\n",
       "       width=\"24px\">\n",
       "    <path d=\"M0 0h24v24H0V0z\" fill=\"none\"/>\n",
       "    <path d=\"M18.56 5.44l.94 2.06.94-2.06 2.06-.94-2.06-.94-.94-2.06-.94 2.06-2.06.94zm-11 1L8.5 8.5l.94-2.06 2.06-.94-2.06-.94L8.5 2.5l-.94 2.06-2.06.94zm10 10l.94 2.06.94-2.06 2.06-.94-2.06-.94-.94-2.06-.94 2.06-2.06.94z\"/><path d=\"M17.41 7.96l-1.37-1.37c-.4-.4-.92-.59-1.43-.59-.52 0-1.04.2-1.43.59L10.3 9.45l-7.72 7.72c-.78.78-.78 2.05 0 2.83L4 21.41c.39.39.9.59 1.41.59.51 0 1.02-.2 1.41-.59l7.78-7.78 2.81-2.81c.8-.78.8-2.07 0-2.86zM5.41 20L4 18.59l7.72-7.72 1.47 1.35L5.41 20z\"/>\n",
       "  </svg>\n",
       "      </button>\n",
       "      \n",
       "  <style>\n",
       "    .colab-df-container {\n",
       "      display:flex;\n",
       "      flex-wrap:wrap;\n",
       "      gap: 12px;\n",
       "    }\n",
       "\n",
       "    .colab-df-convert {\n",
       "      background-color: #E8F0FE;\n",
       "      border: none;\n",
       "      border-radius: 50%;\n",
       "      cursor: pointer;\n",
       "      display: none;\n",
       "      fill: #1967D2;\n",
       "      height: 32px;\n",
       "      padding: 0 0 0 0;\n",
       "      width: 32px;\n",
       "    }\n",
       "\n",
       "    .colab-df-convert:hover {\n",
       "      background-color: #E2EBFA;\n",
       "      box-shadow: 0px 1px 2px rgba(60, 64, 67, 0.3), 0px 1px 3px 1px rgba(60, 64, 67, 0.15);\n",
       "      fill: #174EA6;\n",
       "    }\n",
       "\n",
       "    [theme=dark] .colab-df-convert {\n",
       "      background-color: #3B4455;\n",
       "      fill: #D2E3FC;\n",
       "    }\n",
       "\n",
       "    [theme=dark] .colab-df-convert:hover {\n",
       "      background-color: #434B5C;\n",
       "      box-shadow: 0px 1px 3px 1px rgba(0, 0, 0, 0.15);\n",
       "      filter: drop-shadow(0px 1px 2px rgba(0, 0, 0, 0.3));\n",
       "      fill: #FFFFFF;\n",
       "    }\n",
       "  </style>\n",
       "\n",
       "      <script>\n",
       "        const buttonEl =\n",
       "          document.querySelector('#df-a66be1a4-524b-4937-b11b-f9e3138fb3c8 button.colab-df-convert');\n",
       "        buttonEl.style.display =\n",
       "          google.colab.kernel.accessAllowed ? 'block' : 'none';\n",
       "\n",
       "        async function convertToInteractive(key) {\n",
       "          const element = document.querySelector('#df-a66be1a4-524b-4937-b11b-f9e3138fb3c8');\n",
       "          const dataTable =\n",
       "            await google.colab.kernel.invokeFunction('convertToInteractive',\n",
       "                                                     [key], {});\n",
       "          if (!dataTable) return;\n",
       "\n",
       "          const docLinkHtml = 'Like what you see? Visit the ' +\n",
       "            '<a target=\"_blank\" href=https://colab.research.google.com/notebooks/data_table.ipynb>data table notebook</a>'\n",
       "            + ' to learn more about interactive tables.';\n",
       "          element.innerHTML = '';\n",
       "          dataTable['output_type'] = 'display_data';\n",
       "          await google.colab.output.renderOutput(dataTable, element);\n",
       "          const docLink = document.createElement('div');\n",
       "          docLink.innerHTML = docLinkHtml;\n",
       "          element.appendChild(docLink);\n",
       "        }\n",
       "      </script>\n",
       "    </div>\n",
       "  </div>\n",
       "  "
      ],
      "text/plain": [
       "                Age  DependentChildren  DependentsOther   WeeklyWages  \\\n",
       "count  53999.000000       53999.000000     53999.000000  53999.000000   \n",
       "mean      33.842108           0.119187         0.009945    416.363259   \n",
       "std       12.122124           0.517785         0.109349    248.640710   \n",
       "min       13.000000           0.000000         0.000000      1.000000   \n",
       "25%       23.000000           0.000000         0.000000    200.000000   \n",
       "50%       32.000000           0.000000         0.000000    392.200000   \n",
       "75%       43.000000           0.000000         0.000000    500.000000   \n",
       "max       81.000000           9.000000         5.000000   7497.000000   \n",
       "\n",
       "       HoursWorkedPerWeek  DaysWorkedPerWeek  InitialIncurredCalimsCost  \\\n",
       "count         53999.00000       53999.000000               5.399900e+04   \n",
       "mean             37.73508           4.905758               7.841263e+03   \n",
       "std              12.56882           0.552134               2.058425e+04   \n",
       "min               0.00000           1.000000               1.000000e+00   \n",
       "25%              38.00000           5.000000               7.000000e+02   \n",
       "50%              38.00000           5.000000               2.000000e+03   \n",
       "75%              40.00000           5.000000               9.500000e+03   \n",
       "max             640.00000           7.000000               2.000000e+06   \n",
       "\n",
       "       UltimateIncurredClaimCost  \n",
       "count               5.399900e+04  \n",
       "mean                1.100349e+04  \n",
       "std                 3.339129e+04  \n",
       "min                 1.218868e+02  \n",
       "25%                 9.263174e+02  \n",
       "50%                 3.371116e+03  \n",
       "75%                 8.197288e+03  \n",
       "max                 4.027136e+06  "
      ]
     },
     "execution_count": 11,
     "metadata": {},
     "output_type": "execute_result"
    }
   ],
   "source": [
    " #checking the description of the train data\n",
    "Train_Dataset.describe()"
   ]
  },
  {
   "cell_type": "markdown",
   "id": "5aa72d27",
   "metadata": {
    "id": "5aa72d27"
   },
   "source": [
    "\n",
    "\n",
    "##### Working on the train data"
   ]
  },
  {
   "cell_type": "markdown",
   "id": "52fe6b4b",
   "metadata": {
    "id": "52fe6b4b"
   },
   "source": [
    "##### Checking the shape of dataset ( Number of Rows and Columns )"
   ]
  },
  {
   "cell_type": "code",
   "execution_count": null,
   "id": "c38cfe40",
   "metadata": {
    "colab": {
     "base_uri": "https://localhost:8080/"
    },
    "id": "c38cfe40",
    "outputId": "594f21a5-2cc1-4959-e69c-64eb125549b1"
   },
   "outputs": [
    {
     "data": {
      "text/plain": [
       "(53999, 15)"
      ]
     },
     "execution_count": 12,
     "metadata": {},
     "output_type": "execute_result"
    }
   ],
   "source": [
    "Train_Dataset.shape "
   ]
  },
  {
   "cell_type": "markdown",
   "id": "55e7e107",
   "metadata": {
    "id": "55e7e107"
   },
   "source": [
    "##### Checking for duplicate values"
   ]
  },
  {
   "cell_type": "code",
   "execution_count": null,
   "id": "47172d90",
   "metadata": {
    "colab": {
     "base_uri": "https://localhost:8080/"
    },
    "id": "47172d90",
    "outputId": "40967707-a229-4018-db31-254b26c789ac"
   },
   "outputs": [
    {
     "data": {
      "text/plain": [
       "0"
      ]
     },
     "execution_count": 13,
     "metadata": {},
     "output_type": "execute_result"
    }
   ],
   "source": [
    "Train_Dataset.duplicated().sum() "
   ]
  },
  {
   "cell_type": "markdown",
   "id": "653a2290",
   "metadata": {
    "id": "653a2290"
   },
   "source": [
    "##### Checking for missing values"
   ]
  },
  {
   "cell_type": "code",
   "execution_count": null,
   "id": "a84fdaad",
   "metadata": {
    "colab": {
     "base_uri": "https://localhost:8080/"
    },
    "id": "a84fdaad",
    "outputId": "afd0c0df-9cc2-457e-ae5f-bea1828e08c5"
   },
   "outputs": [
    {
     "data": {
      "text/plain": [
       "ClaimNumber                   0\n",
       "DateTimeOfAccident            0\n",
       "DateReported                  0\n",
       "Age                           0\n",
       "Gender                        0\n",
       "MaritalStatus                29\n",
       "DependentChildren             0\n",
       "DependentsOther               0\n",
       "WeeklyWages                   0\n",
       "PartTimeFullTime              0\n",
       "HoursWorkedPerWeek            0\n",
       "DaysWorkedPerWeek             0\n",
       "ClaimDescription              0\n",
       "InitialIncurredCalimsCost     0\n",
       "UltimateIncurredClaimCost     0\n",
       "dtype: int64"
      ]
     },
     "execution_count": 14,
     "metadata": {},
     "output_type": "execute_result"
    }
   ],
   "source": [
    "Train_Dataset.isnull().sum()"
   ]
  },
  {
   "cell_type": "markdown",
   "id": "7d15aefa",
   "metadata": {
    "id": "7d15aefa"
   },
   "source": [
    "##### Using mean and mode imputation to treating the missing values "
   ]
  },
  {
   "cell_type": "code",
   "execution_count": null,
   "id": "96e947dd",
   "metadata": {
    "id": "96e947dd"
   },
   "outputs": [],
   "source": [
    "#Train_Dataset['WeeklyWages']=Train_Dataset['WeeklyWages'].fillna(Train_Dataset['WeeklyWages'].mean())\n",
    "#Train_Dataset['HoursWorkedPerWeek']=Train_Dataset['HoursWorkedPerWeek'].fillna(Train_Dataset['HoursWorkedPerWeek'].mean())\n",
    "Train_Dataset['MaritalStatus']=Train_Dataset['MaritalStatus'].fillna(Train_Dataset['MaritalStatus'].mode()[0])"
   ]
  },
  {
   "cell_type": "code",
   "execution_count": null,
   "id": "dd3d3f50",
   "metadata": {
    "colab": {
     "base_uri": "https://localhost:8080/"
    },
    "id": "dd3d3f50",
    "outputId": "2f4f0f41-cc63-4a91-94f0-578e6bf98287"
   },
   "outputs": [
    {
     "data": {
      "text/plain": [
       "ClaimNumber                  0\n",
       "DateTimeOfAccident           0\n",
       "DateReported                 0\n",
       "Age                          0\n",
       "Gender                       0\n",
       "MaritalStatus                0\n",
       "DependentChildren            0\n",
       "DependentsOther              0\n",
       "WeeklyWages                  0\n",
       "PartTimeFullTime             0\n",
       "HoursWorkedPerWeek           0\n",
       "DaysWorkedPerWeek            0\n",
       "ClaimDescription             0\n",
       "InitialIncurredCalimsCost    0\n",
       "UltimateIncurredClaimCost    0\n",
       "dtype: int64"
      ]
     },
     "execution_count": 16,
     "metadata": {},
     "output_type": "execute_result"
    }
   ],
   "source": [
    "#To verify if there are any more missing values\n",
    "Train_Dataset.isnull().sum()"
   ]
  },
  {
   "cell_type": "markdown",
   "id": "ed995432",
   "metadata": {
    "id": "ed995432"
   },
   "source": [
    "\n",
    "##### Finally, there are no missing values in Train Dataset"
   ]
  },
  {
   "cell_type": "markdown",
   "id": "e30066e6",
   "metadata": {
    "id": "e30066e6"
   },
   "source": [
    "##### Dividing the data into categorical and numerical data"
   ]
  },
  {
   "cell_type": "code",
   "execution_count": null,
   "id": "e2bd20a7",
   "metadata": {
    "id": "e2bd20a7"
   },
   "outputs": [],
   "source": [
    "Train_Dataset_num=Train_Dataset[{'Age','DependentChildren', 'DependentsOther', 'WeeklyWages', 'HoursWorkedPerWeek', 'DaysWorkedPerWeek',\n",
    "           'InitialIncurredCalimsCost','UltimateIncurredClaimCost', }]\n",
    "Train_Dataset_cat=Train_Dataset[{'ClaimNumber', 'DateTimeOfAccident', 'DateReported','Gender' ,'MaritalStatus','PartTimeFullTime','ClaimDescription'}]"
   ]
  },
  {
   "cell_type": "markdown",
   "id": "d89939dc",
   "metadata": {
    "id": "d89939dc"
   },
   "source": [
    "##### For understanding categorical data \n"
   ]
  },
  {
   "cell_type": "code",
   "execution_count": null,
   "id": "deb3f8d6",
   "metadata": {
    "colab": {
     "base_uri": "https://localhost:8080/"
    },
    "id": "deb3f8d6",
    "outputId": "c4cddbf4-1926-4c57-d879-7934a92bf5a5"
   },
   "outputs": [
    {
     "data": {
      "text/plain": [
       "S    26190\n",
       "M    22515\n",
       "U     5294\n",
       "Name: MaritalStatus, dtype: int64"
      ]
     },
     "execution_count": 18,
     "metadata": {},
     "output_type": "execute_result"
    }
   ],
   "source": [
    "Train_Dataset['MaritalStatus'].value_counts()"
   ]
  },
  {
   "cell_type": "code",
   "execution_count": null,
   "id": "137f3dad",
   "metadata": {
    "colab": {
     "base_uri": "https://localhost:8080/"
    },
    "id": "137f3dad",
    "outputId": "8888c78b-44d3-4f64-c66f-38df6dd94da2"
   },
   "outputs": [
    {
     "data": {
      "text/plain": [
       "M    41659\n",
       "F    12338\n",
       "U        2\n",
       "Name: Gender, dtype: int64"
      ]
     },
     "execution_count": 19,
     "metadata": {},
     "output_type": "execute_result"
    }
   ],
   "source": [
    "Train_Dataset['Gender'].value_counts()"
   ]
  },
  {
   "cell_type": "code",
   "execution_count": null,
   "id": "cedb75c3",
   "metadata": {
    "colab": {
     "base_uri": "https://localhost:8080/"
    },
    "id": "cedb75c3",
    "outputId": "2319f626-ea81-44a4-d127-66a0c8eb03bf"
   },
   "outputs": [
    {
     "data": {
      "text/plain": [
       "F    49111\n",
       "P     4888\n",
       "Name: PartTimeFullTime, dtype: int64"
      ]
     },
     "execution_count": 20,
     "metadata": {},
     "output_type": "execute_result"
    }
   ],
   "source": [
    "Train_Dataset['PartTimeFullTime'].value_counts()"
   ]
  },
  {
   "cell_type": "code",
   "execution_count": null,
   "id": "701bee2b",
   "metadata": {
    "colab": {
     "base_uri": "https://localhost:8080/"
    },
    "id": "701bee2b",
    "outputId": "67f067e4-6bb9-44f3-c9ba-6e0d9ecaa047"
   },
   "outputs": [
    {
     "data": {
      "text/plain": [
       "28113"
      ]
     },
     "execution_count": 21,
     "metadata": {},
     "output_type": "execute_result"
    }
   ],
   "source": [
    "Train_Dataset['ClaimDescription'].nunique()"
   ]
  },
  {
   "cell_type": "markdown",
   "id": "f8074007",
   "metadata": {
    "id": "f8074007"
   },
   "source": [
    "##### There are 28113 unique claims made."
   ]
  },
  {
   "cell_type": "code",
   "execution_count": null,
   "id": "218ca57c",
   "metadata": {
    "colab": {
     "base_uri": "https://localhost:8080/"
    },
    "id": "218ca57c",
    "outputId": "3ef97956-ad0c-4f79-c225-d3042a8683db"
   },
   "outputs": [
    {
     "data": {
      "text/plain": [
       "53999"
      ]
     },
     "execution_count": 22,
     "metadata": {},
     "output_type": "execute_result"
    }
   ],
   "source": [
    "Train_Dataset.ClaimNumber.count()"
   ]
  },
  {
   "cell_type": "markdown",
   "id": "e9dba1ed",
   "metadata": {
    "id": "e9dba1ed"
   },
   "source": [
    "##### The total number of claims filed is 53999."
   ]
  },
  {
   "cell_type": "code",
   "execution_count": null,
   "id": "73185d2f",
   "metadata": {
    "colab": {
     "base_uri": "https://localhost:8080/"
    },
    "id": "73185d2f",
    "outputId": "a9695739-cdd7-42fd-e819-fc86811723ac"
   },
   "outputs": [
    {
     "data": {
      "text/plain": [
       "53999"
      ]
     },
     "execution_count": 23,
     "metadata": {},
     "output_type": "execute_result"
    }
   ],
   "source": [
    "Train_Dataset['ClaimNumber'].nunique()"
   ]
  },
  {
   "cell_type": "markdown",
   "id": "f855f7a4",
   "metadata": {
    "id": "f855f7a4"
   },
   "source": [
    "##### The total number of claims that were filed is 53999 and all number of unique claims are Unique."
   ]
  },
  {
   "cell_type": "markdown",
   "id": "4a9fb2c7",
   "metadata": {
    "id": "4a9fb2c7"
   },
   "source": [
    "### Data Transformation"
   ]
  },
  {
   "cell_type": "markdown",
   "id": "3e5925c7",
   "metadata": {
    "id": "3e5925c7"
   },
   "source": [
    "#### Data  binning"
   ]
  },
  {
   "cell_type": "code",
   "execution_count": null,
   "id": "9fb235d5",
   "metadata": {
    "colab": {
     "base_uri": "https://localhost:8080/"
    },
    "id": "9fb235d5",
    "outputId": "fb598b27-840b-4197-8c7e-84341f474b19"
   },
   "outputs": [
    {
     "data": {
      "text/plain": [
       "<bound method IndexOpsMixin.value_counts of 1        43\n",
       "2        30\n",
       "3        41\n",
       "4        36\n",
       "5        50\n",
       "         ..\n",
       "53995    32\n",
       "53996    20\n",
       "53997    19\n",
       "53998    24\n",
       "53999    22\n",
       "Name: Age, Length: 53999, dtype: int64>"
      ]
     },
     "execution_count": 24,
     "metadata": {},
     "output_type": "execute_result"
    }
   ],
   "source": [
    "Train_Dataset['Age'].value_counts"
   ]
  },
  {
   "cell_type": "code",
   "execution_count": null,
   "id": "46dcd34b",
   "metadata": {
    "colab": {
     "base_uri": "https://localhost:8080/"
    },
    "id": "46dcd34b",
    "outputId": "f3dbf7d2-e07d-4662-cc54-fd31b9b91f6c"
   },
   "outputs": [
    {
     "data": {
      "text/plain": [
       "13"
      ]
     },
     "execution_count": 25,
     "metadata": {},
     "output_type": "execute_result"
    }
   ],
   "source": [
    "Train_Dataset['Age'].min()"
   ]
  },
  {
   "cell_type": "code",
   "execution_count": null,
   "id": "53a6ce39",
   "metadata": {
    "colab": {
     "base_uri": "https://localhost:8080/"
    },
    "id": "53a6ce39",
    "outputId": "fc6c0da1-b855-47b2-bab0-f7bf2b6fd84b"
   },
   "outputs": [
    {
     "data": {
      "text/plain": [
       "81"
      ]
     },
     "execution_count": 26,
     "metadata": {},
     "output_type": "execute_result"
    }
   ],
   "source": [
    "Train_Dataset['Age'].max()"
   ]
  },
  {
   "cell_type": "code",
   "execution_count": null,
   "id": "e4f8cca0",
   "metadata": {
    "colab": {
     "base_uri": "https://localhost:8080/"
    },
    "id": "e4f8cca0",
    "outputId": "36b7fa50-88c2-4d0c-d2c7-b49c614513fc"
   },
   "outputs": [
    {
     "data": {
      "text/plain": [
       "1        Middle-Age\n",
       "2        Middle-Age\n",
       "3        Middle-Age\n",
       "4        Middle-Age\n",
       "5        Middle-Age\n",
       "            ...    \n",
       "53995    Middle-Age\n",
       "53996         Young\n",
       "53997         Young\n",
       "53998         Young\n",
       "53999         Young\n",
       "Name: Age_Bin, Length: 53999, dtype: category\n",
       "Categories (3, object): ['Young' < 'Middle-Age' < 'Old']"
      ]
     },
     "execution_count": 27,
     "metadata": {},
     "output_type": "execute_result"
    }
   ],
   "source": [
    "Train_Dataset['Age_Bin']=pd.cut(Train_Dataset['Age'],bins=[1,25,50,80] , labels=['Young','Middle-Age','Old'])\n",
    "Train_Dataset['Age_Bin']"
   ]
  },
  {
   "cell_type": "code",
   "execution_count": null,
   "id": "9a19464f",
   "metadata": {
    "colab": {
     "base_uri": "https://localhost:8080/"
    },
    "id": "9a19464f",
    "outputId": "6d2a7483-42bc-4d93-9c59-a18c5bc3ceeb"
   },
   "outputs": [
    {
     "data": {
      "text/plain": [
       "<bound method IndexOpsMixin.value_counts of 1        509.34\n",
       "2        709.10\n",
       "3        555.46\n",
       "4        377.10\n",
       "5        200.00\n",
       "          ...  \n",
       "53995    500.00\n",
       "53996    500.00\n",
       "53997    283.00\n",
       "53998    200.00\n",
       "53999    200.00\n",
       "Name: WeeklyWages, Length: 53999, dtype: float64>"
      ]
     },
     "execution_count": 28,
     "metadata": {},
     "output_type": "execute_result"
    }
   ],
   "source": [
    "Train_Dataset['WeeklyWages'].value_counts"
   ]
  },
  {
   "cell_type": "code",
   "execution_count": null,
   "id": "3de4e8c3",
   "metadata": {
    "colab": {
     "base_uri": "https://localhost:8080/"
    },
    "id": "3de4e8c3",
    "outputId": "5c8c3417-a1ec-4df4-c609-cc320d4dc3aa"
   },
   "outputs": [
    {
     "data": {
      "text/plain": [
       "7497.0"
      ]
     },
     "execution_count": 29,
     "metadata": {},
     "output_type": "execute_result"
    }
   ],
   "source": [
    "Train_Dataset['WeeklyWages'].max()"
   ]
  },
  {
   "cell_type": "code",
   "execution_count": null,
   "id": "abb4c746",
   "metadata": {
    "colab": {
     "base_uri": "https://localhost:8080/"
    },
    "id": "abb4c746",
    "outputId": "698b53e1-d8e3-4b83-ce64-d49f09a5e236"
   },
   "outputs": [
    {
     "data": {
      "text/plain": [
       "1.0"
      ]
     },
     "execution_count": 30,
     "metadata": {},
     "output_type": "execute_result"
    }
   ],
   "source": [
    "Train_Dataset['WeeklyWages'].min()"
   ]
  },
  {
   "cell_type": "code",
   "execution_count": null,
   "id": "3784f1ef",
   "metadata": {
    "colab": {
     "base_uri": "https://localhost:8080/"
    },
    "id": "3784f1ef",
    "outputId": "e8c82691-44a6-499c-c982-f358a3dd79b6"
   },
   "outputs": [
    {
     "data": {
      "text/plain": [
       "1        Low\n",
       "2        Low\n",
       "3        Low\n",
       "4        Low\n",
       "5        Low\n",
       "        ... \n",
       "53995    Low\n",
       "53996    Low\n",
       "53997    Low\n",
       "53998    Low\n",
       "53999    Low\n",
       "Name: WeeklyWages_Bin, Length: 53999, dtype: category\n",
       "Categories (5, object): ['Low' < 'Below Average' < 'Average Wage' < 'Above Average' < 'High']"
      ]
     },
     "execution_count": 31,
     "metadata": {},
     "output_type": "execute_result"
    }
   ],
   "source": [
    "Train_Dataset['WeeklyWages_Bin']=pd.cut(Train_Dataset['WeeklyWages'],bins=[0,1000,2000,4000,7000,8000] , labels=['Low','Below Average','Average Wage','Above Average','High'])\n",
    "Train_Dataset['WeeklyWages_Bin']"
   ]
  },
  {
   "cell_type": "markdown",
   "id": "d7e159dd",
   "metadata": {
    "id": "d7e159dd"
   },
   "source": [
    " ## Exploratory Data Analysis :- \n",
    "## 1. Univariate Analysis"
   ]
  },
  {
   "cell_type": "code",
   "execution_count": null,
   "id": "291d99ee",
   "metadata": {
    "colab": {
     "base_uri": "https://localhost:8080/"
    },
    "id": "291d99ee",
    "outputId": "60c563b4-050e-4ab3-952e-c4d6bbe9562d"
   },
   "outputs": [
    {
     "data": {
      "text/plain": [
       "count    5.399900e+04\n",
       "mean     1.100349e+04\n",
       "std      3.339129e+04\n",
       "min      1.218868e+02\n",
       "25%      9.263174e+02\n",
       "50%      3.371116e+03\n",
       "75%      8.197288e+03\n",
       "max      4.027136e+06\n",
       "Name: UltimateIncurredClaimCost, dtype: float64"
      ]
     },
     "execution_count": 32,
     "metadata": {},
     "output_type": "execute_result"
    }
   ],
   "source": [
    "#Checking the target variable \n",
    "Train_Dataset['UltimateIncurredClaimCost'].describe()"
   ]
  },
  {
   "cell_type": "code",
   "execution_count": null,
   "id": "bf34f8a7",
   "metadata": {
    "colab": {
     "base_uri": "https://localhost:8080/",
     "height": 351
    },
    "id": "bf34f8a7",
    "outputId": "4d13579f-0c31-40ac-e1c8-11e32080871b"
   },
   "outputs": [
    {
     "name": "stderr",
     "output_type": "stream",
     "text": [
      "/usr/local/lib/python3.7/dist-packages/seaborn/distributions.py:2619: FutureWarning: `distplot` is a deprecated function and will be removed in a future version. Please adapt your code to use either `displot` (a figure-level function with similar flexibility) or `histplot` (an axes-level function for histograms).\n",
      "  warnings.warn(msg, FutureWarning)\n"
     ]
    },
    {
     "data": {
      "text/plain": [
       "<matplotlib.axes._subplots.AxesSubplot at 0x7f75ae39ef10>"
      ]
     },
     "execution_count": 33,
     "metadata": {},
     "output_type": "execute_result"
    },
    {
     "data": {
      "image/png": "[encoded data removed]",
      "text/plain": [
       "<Figure size 432x288 with 1 Axes>"
      ]
     },
     "metadata": {
      "needs_background": "light"
     },
     "output_type": "display_data"
    }
   ],
   "source": [
    "#Checking the skewness of the target variable \n",
    "Train_Dataset['UltimateIncurredClaimCost'].hist(bins=50)\n",
    "sns.distplot(Train_Dataset['UltimateIncurredClaimCost'])"
   ]
  },
  {
   "cell_type": "markdown",
   "id": "44a582cd",
   "metadata": {
    "id": "44a582cd"
   },
   "source": [
    "[link text](https://)##### The data for UltimateIncurredClaimCost is right skewed."
   ]
  },
  {
   "cell_type": "code",
   "execution_count": null,
   "id": "7c797029",
   "metadata": {
    "colab": {
     "base_uri": "https://localhost:8080/"
    },
    "id": "7c797029",
    "outputId": "ad9b76d9-4a3a-4fb7-8372-69c662cecf66"
   },
   "outputs": [
    {
     "data": {
      "text/plain": [
       "count    5.399900e+04\n",
       "mean     7.841263e+03\n",
       "std      2.058425e+04\n",
       "min      1.000000e+00\n",
       "25%      7.000000e+02\n",
       "50%      2.000000e+03\n",
       "75%      9.500000e+03\n",
       "max      2.000000e+06\n",
       "Name: InitialIncurredCalimsCost, dtype: float64"
      ]
     },
     "execution_count": 34,
     "metadata": {},
     "output_type": "execute_result"
    }
   ],
   "source": [
    "Train_Dataset['InitialIncurredCalimsCost'].describe()"
   ]
  },
  {
   "cell_type": "code",
   "execution_count": null,
   "id": "fccc9487",
   "metadata": {
    "colab": {
     "base_uri": "https://localhost:8080/",
     "height": 351
    },
    "id": "fccc9487",
    "outputId": "0eee9c81-a368-4f35-cbe7-7f874a415f13",
    "scrolled": true
   },
   "outputs": [
    {
     "name": "stderr",
     "output_type": "stream",
     "text": [
      "/usr/local/lib/python3.7/dist-packages/seaborn/distributions.py:2619: FutureWarning: `distplot` is a deprecated function and will be removed in a future version. Please adapt your code to use either `displot` (a figure-level function with similar flexibility) or `histplot` (an axes-level function for histograms).\n",
      "  warnings.warn(msg, FutureWarning)\n"
     ]
    },
    {
     "data": {
      "text/plain": [
       "<matplotlib.axes._subplots.AxesSubplot at 0x7f75ae1e0e50>"
      ]
     },
     "execution_count": 35,
     "metadata": {},
     "output_type": "execute_result"
    },
    {
     "data": {
      "image/png": "[encoded data removed]",
      "text/plain": [
       "<Figure size 432x288 with 1 Axes>"
      ]
     },
     "metadata": {
      "needs_background": "light"
     },
     "output_type": "display_data"
    }
   ],
   "source": [
    "Train_Dataset['InitialIncurredCalimsCost'].hist(bins=30)\n",
    "sns.distplot(Train_Dataset['InitialIncurredCalimsCost'])"
   ]
  },
  {
   "cell_type": "markdown",
   "id": "bacc4c89",
   "metadata": {
    "id": "bacc4c89"
   },
   "source": [
    "##### The data for InitialIncurredClaimCost is right skewed."
   ]
  },
  {
   "cell_type": "code",
   "execution_count": null,
   "id": "2104595f",
   "metadata": {
    "colab": {
     "base_uri": "https://localhost:8080/",
     "height": 351
    },
    "id": "2104595f",
    "outputId": "6d539bc6-57a1-4e9e-ca0b-4fadc8bc5317"
   },
   "outputs": [
    {
     "name": "stderr",
     "output_type": "stream",
     "text": [
      "/usr/local/lib/python3.7/dist-packages/seaborn/distributions.py:2619: FutureWarning: `distplot` is a deprecated function and will be removed in a future version. Please adapt your code to use either `displot` (a figure-level function with similar flexibility) or `histplot` (an axes-level function for histograms).\n",
      "  warnings.warn(msg, FutureWarning)\n"
     ]
    },
    {
     "data": {
      "text/plain": [
       "<matplotlib.axes._subplots.AxesSubplot at 0x7f75a991a550>"
      ]
     },
     "execution_count": 36,
     "metadata": {},
     "output_type": "execute_result"
    },
    {
     "data": {
      "image/png": "[encoded data removed]",
      "text/plain": [
       "<Figure size 432x288 with 1 Axes>"
      ]
     },
     "metadata": {
      "needs_background": "light"
     },
     "output_type": "display_data"
    }
   ],
   "source": [
    "sns.distplot(Train_Dataset['Age'])"
   ]
  },
  {
   "cell_type": "code",
   "execution_count": null,
   "id": "d9db61e3",
   "metadata": {
    "colab": {
     "base_uri": "https://localhost:8080/",
     "height": 297
    },
    "id": "d9db61e3",
    "outputId": "bbbe563e-d9a9-47c0-bba4-f10ab4191c45"
   },
   "outputs": [
    {
     "data": {
      "text/plain": [
       "<matplotlib.axes._subplots.AxesSubplot at 0x7f75a91d5350>"
      ]
     },
     "execution_count": 37,
     "metadata": {},
     "output_type": "execute_result"
    },
    {
     "data": {
      "image/png": "[encoded data removed]",
      "text/plain": [
       "<Figure size 432x288 with 1 Axes>"
      ]
     },
     "metadata": {
      "needs_background": "light"
     },
     "output_type": "display_data"
    }
   ],
   "source": [
    "sns.countplot(x = 'Age_Bin', data = Train_Dataset)"
   ]
  },
  {
   "cell_type": "code",
   "execution_count": null,
   "id": "94c51d0d",
   "metadata": {
    "colab": {
     "base_uri": "https://localhost:8080/"
    },
    "id": "94c51d0d",
    "outputId": "4978f8d1-22d4-4728-855e-030edbd2bdb0"
   },
   "outputs": [
    {
     "data": {
      "text/plain": [
       "Middle-Age    56.944702\n",
       "Young         31.638209\n",
       "Old           11.417090\n",
       "Name: Age_Bin, dtype: float64"
      ]
     },
     "execution_count": 38,
     "metadata": {},
     "output_type": "execute_result"
    }
   ],
   "source": [
    "Train_Dataset['Age_Bin'].value_counts(normalize=True)*100"
   ]
  },
  {
   "cell_type": "markdown",
   "id": "4e1b2a5c",
   "metadata": {
    "id": "4e1b2a5c"
   },
   "source": [
    "##### From both the plots we can see,when compare with Yound and old age,the claims are higher from the middle age group (25-40) which is close to 57%"
   ]
  },
  {
   "cell_type": "code",
   "execution_count": null,
   "id": "089c5274",
   "metadata": {
    "colab": {
     "base_uri": "https://localhost:8080/",
     "height": 296
    },
    "id": "089c5274",
    "outputId": "df20230b-ce30-4e0f-a2f6-423317d3986b"
   },
   "outputs": [
    {
     "data": {
      "text/plain": [
       "<matplotlib.axes._subplots.AxesSubplot at 0x7f75a9159690>"
      ]
     },
     "execution_count": 39,
     "metadata": {},
     "output_type": "execute_result"
    },
    {
     "data": {
      "image/png": "[encoded data removed]",
      "text/plain": [
       "<Figure size 432x288 with 1 Axes>"
      ]
     },
     "metadata": {
      "needs_background": "light"
     },
     "output_type": "display_data"
    }
   ],
   "source": [
    "sns.countplot(x = 'DependentChildren', data = Train_Dataset)"
   ]
  },
  {
   "cell_type": "code",
   "execution_count": null,
   "id": "eef84946",
   "metadata": {
    "colab": {
     "base_uri": "https://localhost:8080/"
    },
    "id": "eef84946",
    "outputId": "f6d0da9a-abcd-407f-9ca7-5de26efacd44"
   },
   "outputs": [
    {
     "data": {
      "text/plain": [
       "0    93.775811\n",
       "2     2.520417\n",
       "1     2.357451\n",
       "3     0.977796\n",
       "4     0.277783\n",
       "5     0.077779\n",
       "6     0.009259\n",
       "9     0.001852\n",
       "8     0.001852\n",
       "Name: DependentChildren, dtype: float64"
      ]
     },
     "execution_count": 40,
     "metadata": {},
     "output_type": "execute_result"
    }
   ],
   "source": [
    "Train_Dataset['DependentChildren'].value_counts(normalize=True)*100"
   ]
  },
  {
   "cell_type": "markdown",
   "id": "0b9a720f",
   "metadata": {
    "id": "0b9a720f"
   },
   "source": [
    "##### The claims made from people with no(zero) children as dependents is really high(close to 94%)."
   ]
  },
  {
   "cell_type": "code",
   "execution_count": null,
   "id": "d548b859",
   "metadata": {
    "colab": {
     "base_uri": "https://localhost:8080/",
     "height": 296
    },
    "id": "d548b859",
    "outputId": "e1b5d17a-ab91-4e0a-fe76-369ff840fcaa"
   },
   "outputs": [
    {
     "data": {
      "text/plain": [
       "<matplotlib.axes._subplots.AxesSubplot at 0x7f75a9141c90>"
      ]
     },
     "execution_count": 41,
     "metadata": {},
     "output_type": "execute_result"
    },
    {
     "data": {
      "image/png": "[encoded data removed]",
      "text/plain": [
       "<Figure size 432x288 with 1 Axes>"
      ]
     },
     "metadata": {
      "needs_background": "light"
     },
     "output_type": "display_data"
    }
   ],
   "source": [
    "sns.countplot(x = 'DependentsOther', data = Train_Dataset)"
   ]
  },
  {
   "cell_type": "code",
   "execution_count": null,
   "id": "b320db65",
   "metadata": {
    "colab": {
     "base_uri": "https://localhost:8080/"
    },
    "id": "b320db65",
    "outputId": "c19ed05d-487c-4450-f488-695f46dc041b"
   },
   "outputs": [
    {
     "data": {
      "text/plain": [
       "0    99.085168\n",
       "1     0.855571\n",
       "2     0.042593\n",
       "3     0.014815\n",
       "5     0.001852\n",
       "Name: DependentsOther, dtype: float64"
      ]
     },
     "execution_count": 42,
     "metadata": {},
     "output_type": "execute_result"
    }
   ],
   "source": [
    "Train_Dataset['DependentsOther'].value_counts(normalize=True)*100"
   ]
  },
  {
   "cell_type": "markdown",
   "id": "144743bb",
   "metadata": {
    "id": "144743bb"
   },
   "source": [
    "##### The claims made from people with no other dependents is higher than people with other dependents (morethan 99%)."
   ]
  },
  {
   "cell_type": "code",
   "execution_count": null,
   "id": "5cce0949",
   "metadata": {
    "colab": {
     "base_uri": "https://localhost:8080/",
     "height": 351
    },
    "id": "5cce0949",
    "outputId": "4bf3d62f-a68e-4a9b-fbd7-c415eec60a94"
   },
   "outputs": [
    {
     "name": "stderr",
     "output_type": "stream",
     "text": [
      "/usr/local/lib/python3.7/dist-packages/seaborn/distributions.py:2619: FutureWarning: `distplot` is a deprecated function and will be removed in a future version. Please adapt your code to use either `displot` (a figure-level function with similar flexibility) or `histplot` (an axes-level function for histograms).\n",
      "  warnings.warn(msg, FutureWarning)\n"
     ]
    },
    {
     "data": {
      "text/plain": [
       "<matplotlib.axes._subplots.AxesSubplot at 0x7f75a90b5810>"
      ]
     },
     "execution_count": 43,
     "metadata": {},
     "output_type": "execute_result"
    },
    {
     "data": {
      "image/png": "[encoded data removed]",
      "text/plain": [
       "<Figure size 432x288 with 1 Axes>"
      ]
     },
     "metadata": {
      "needs_background": "light"
     },
     "output_type": "display_data"
    }
   ],
   "source": [
    "Train_Dataset['HoursWorkedPerWeek'].hist(bins=50)\n",
    "sns.distplot(Train_Dataset['HoursWorkedPerWeek'])"
   ]
  },
  {
   "cell_type": "markdown",
   "id": "b8c362ac",
   "metadata": {
    "id": "b8c362ac"
   },
   "source": [
    "##### The data for HoursWorkedPerWeek is positively skewed."
   ]
  },
  {
   "cell_type": "code",
   "execution_count": null,
   "id": "cac1e7d3",
   "metadata": {
    "colab": {
     "base_uri": "https://localhost:8080/",
     "height": 296
    },
    "id": "cac1e7d3",
    "outputId": "481c2ae8-c086-4d39-a6d5-7c5c9f64b113"
   },
   "outputs": [
    {
     "data": {
      "text/plain": [
       "<matplotlib.axes._subplots.AxesSubplot at 0x7f75a9008d50>"
      ]
     },
     "execution_count": 44,
     "metadata": {},
     "output_type": "execute_result"
    },
    {
     "data": {
      "image/png": "[encoded data removed]",
      "text/plain": [
       "<Figure size 432x288 with 1 Axes>"
      ]
     },
     "metadata": {
      "needs_background": "light"
     },
     "output_type": "display_data"
    }
   ],
   "source": [
    "sns.countplot(x = 'DaysWorkedPerWeek', data = Train_Dataset)"
   ]
  },
  {
   "cell_type": "code",
   "execution_count": null,
   "id": "c8915a64",
   "metadata": {
    "colab": {
     "base_uri": "https://localhost:8080/"
    },
    "id": "c8915a64",
    "outputId": "e2a390ef-bbc4-4e00-d940-beb5e2e34d83"
   },
   "outputs": [
    {
     "data": {
      "text/plain": [
       "5    91.083168\n",
       "4     2.733384\n",
       "3     2.659309\n",
       "6     1.637067\n",
       "2     0.950018\n",
       "7     0.598159\n",
       "1     0.338895\n",
       "Name: DaysWorkedPerWeek, dtype: float64"
      ]
     },
     "execution_count": 45,
     "metadata": {},
     "output_type": "execute_result"
    }
   ],
   "source": [
    "Train_Dataset['DaysWorkedPerWeek'].value_counts(normalize=True)*100"
   ]
  },
  {
   "cell_type": "markdown",
   "id": "5abe5221",
   "metadata": {
    "id": "5abe5221"
   },
   "source": [
    "##### From the above plot states that 91% of the 5days working (5 days/week)people from our dataset have claimed for insurance. "
   ]
  },
  {
   "cell_type": "code",
   "execution_count": null,
   "id": "d4143113",
   "metadata": {
    "colab": {
     "base_uri": "https://localhost:8080/",
     "height": 296
    },
    "id": "d4143113",
    "outputId": "e0760494-1183-42bf-8cbc-9c9247e10781"
   },
   "outputs": [
    {
     "data": {
      "text/plain": [
       "<matplotlib.axes._subplots.AxesSubplot at 0x7f75a8ec6510>"
      ]
     },
     "execution_count": 46,
     "metadata": {},
     "output_type": "execute_result"
    },
    {
     "data": {
      "image/png": "[encoded data removed]",
      "text/plain": [
       "<Figure size 432x288 with 1 Axes>"
      ]
     },
     "metadata": {
      "needs_background": "light"
     },
     "output_type": "display_data"
    }
   ],
   "source": [
    "sns.countplot(x = 'Gender', data = Train_Dataset)"
   ]
  },
  {
   "cell_type": "code",
   "execution_count": null,
   "id": "4bb1ab54",
   "metadata": {
    "colab": {
     "base_uri": "https://localhost:8080/"
    },
    "id": "4bb1ab54",
    "outputId": "c5c3d4ab-a3db-45d2-de1f-00c1df37170a"
   },
   "outputs": [
    {
     "data": {
      "text/plain": [
       "M    77.147725\n",
       "F    22.848571\n",
       "U     0.003704\n",
       "Name: Gender, dtype: float64"
      ]
     },
     "execution_count": 47,
     "metadata": {},
     "output_type": "execute_result"
    }
   ],
   "source": [
    "Train_Dataset['Gender'].value_counts(normalize=True)*100"
   ]
  },
  {
   "cell_type": "markdown",
   "id": "b42c8a94",
   "metadata": {
    "id": "b42c8a94"
   },
   "source": [
    "##### From the above plot we can see more than 77% males gender claimed insurance compare with females(22%)."
   ]
  },
  {
   "cell_type": "code",
   "execution_count": null,
   "id": "502971fa",
   "metadata": {
    "colab": {
     "base_uri": "https://localhost:8080/",
     "height": 296
    },
    "id": "502971fa",
    "outputId": "297f96fb-860a-48cf-e48c-990a5354adef"
   },
   "outputs": [
    {
     "data": {
      "text/plain": [
       "<matplotlib.axes._subplots.AxesSubplot at 0x7f75a8e4d6d0>"
      ]
     },
     "execution_count": 48,
     "metadata": {},
     "output_type": "execute_result"
    },
    {
     "data": {
      "image/png": "[encoded data removed]",
      "text/plain": [
       "<Figure size 432x288 with 1 Axes>"
      ]
     },
     "metadata": {
      "needs_background": "light"
     },
     "output_type": "display_data"
    }
   ],
   "source": [
    "sns.countplot(x = 'MaritalStatus', data = Train_Dataset)"
   ]
  },
  {
   "cell_type": "code",
   "execution_count": null,
   "id": "eb515b2a",
   "metadata": {
    "colab": {
     "base_uri": "https://localhost:8080/"
    },
    "id": "eb515b2a",
    "outputId": "e7a3dab5-10b4-47cc-fab8-7aefe996852f"
   },
   "outputs": [
    {
     "data": {
      "text/plain": [
       "S    48.500898\n",
       "M    41.695217\n",
       "U     9.803885\n",
       "Name: MaritalStatus, dtype: float64"
      ]
     },
     "execution_count": 49,
     "metadata": {},
     "output_type": "execute_result"
    }
   ],
   "source": [
    "Train_Dataset['MaritalStatus'].value_counts(normalize=True)*100"
   ]
  },
  {
   "cell_type": "markdown",
   "id": "a378c6c4",
   "metadata": {
    "id": "a378c6c4"
   },
   "source": [
    "##### From the above plot, we can say almost 48% Single people claimed for insurance with compare with married and unmarried.\n",
    "\n",
    "> Indented block\n",
    "\n"
   ]
  },
  {
   "cell_type": "code",
   "execution_count": null,
   "id": "121799ef",
   "metadata": {
    "colab": {
     "base_uri": "https://localhost:8080/",
     "height": 296
    },
    "id": "121799ef",
    "outputId": "a690323e-1f2a-4ef1-f80c-58260f47edea"
   },
   "outputs": [
    {
     "data": {
      "text/plain": [
       "<matplotlib.axes._subplots.AxesSubplot at 0x7f75a9335210>"
      ]
     },
     "execution_count": 50,
     "metadata": {},
     "output_type": "execute_result"
    },
    {
     "data": {
      "image/png": "[encoded data removed]",
      "text/plain": [
       "<Figure size 432x288 with 1 Axes>"
      ]
     },
     "metadata": {
      "needs_background": "light"
     },
     "output_type": "display_data"
    }
   ],
   "source": [
    "sns.countplot(x = 'PartTimeFullTime', data = Train_Dataset)"
   ]
  },
  {
   "cell_type": "code",
   "execution_count": null,
   "id": "8a98dd5f",
   "metadata": {
    "colab": {
     "base_uri": "https://localhost:8080/"
    },
    "id": "8a98dd5f",
    "outputId": "ee5dc27f-b86c-44c6-fcb1-ed600c9656ed"
   },
   "outputs": [
    {
     "data": {
      "text/plain": [
       "F    90.947981\n",
       "P     9.052019\n",
       "Name: PartTimeFullTime, dtype: float64"
      ]
     },
     "execution_count": 51,
     "metadata": {},
     "output_type": "execute_result"
    }
   ],
   "source": [
    "Train_Dataset['PartTimeFullTime'].value_counts(normalize=True)*100"
   ]
  },
  {
   "cell_type": "markdown",
   "id": "acc95b44",
   "metadata": {
    "id": "acc95b44"
   },
   "source": [
    "##### From the above plot we can say closely 91% of the people hold full time jobs."
   ]
  },
  {
   "cell_type": "code",
   "execution_count": null,
   "id": "dd632b93",
   "metadata": {
    "colab": {
     "base_uri": "https://localhost:8080/",
     "height": 352
    },
    "id": "dd632b93",
    "outputId": "49b94615-17ed-4bb0-878e-580a770eabe0"
   },
   "outputs": [
    {
     "data": {
      "text/plain": [
       "<matplotlib.axes._subplots.AxesSubplot at 0x7f75a91ec690>"
      ]
     },
     "execution_count": 52,
     "metadata": {},
     "output_type": "execute_result"
    },
    {
     "data": {
      "image/png": "[encoded data removed]",
      "text/plain": [
       "<Figure size 720x360 with 1 Axes>"
      ]
     },
     "metadata": {
      "needs_background": "light"
     },
     "output_type": "display_data"
    }
   ],
   "source": [
    "plt.figure(figsize=(10,5))\n",
    "sns.countplot(x = 'WeeklyWages_Bin', data = Train_Dataset)"
   ]
  },
  {
   "cell_type": "code",
   "execution_count": null,
   "id": "7e683a51",
   "metadata": {
    "colab": {
     "base_uri": "https://localhost:8080/"
    },
    "id": "7e683a51",
    "outputId": "8e9c1b8e-4c5a-4b06-e9f3-57bc2be7b6b4"
   },
   "outputs": [
    {
     "data": {
      "text/plain": [
       "Low              97.905517\n",
       "Below Average     1.972259\n",
       "Average Wage      0.107409\n",
       "Above Average     0.007408\n",
       "High              0.007408\n",
       "Name: WeeklyWages_Bin, dtype: float64"
      ]
     },
     "execution_count": 53,
     "metadata": {},
     "output_type": "execute_result"
    }
   ],
   "source": [
    "Train_Dataset['WeeklyWages_Bin'].value_counts(normalize=True)*100"
   ]
  },
  {
   "cell_type": "markdown",
   "id": "3868ad63",
   "metadata": {
    "id": "3868ad63"
   },
   "source": [
    "##### From the above plot we can state that most of the people who claimed for  insurance have low wages "
   ]
  },
  {
   "cell_type": "markdown",
   "id": "37eda331",
   "metadata": {
    "id": "37eda331"
   },
   "source": [
    "## 2. Bivariate analysis"
   ]
  },
  {
   "cell_type": "code",
   "execution_count": null,
   "id": "31dd93fa",
   "metadata": {
    "colab": {
     "base_uri": "https://localhost:8080/",
     "height": 301
    },
    "id": "31dd93fa",
    "outputId": "0f06b3c6-35d6-4c9f-9bc2-b62794591e32"
   },
   "outputs": [
    {
     "data": {
      "text/plain": [
       "<matplotlib.axes._subplots.AxesSubplot at 0x7f75a8d315d0>"
      ]
     },
     "execution_count": 54,
     "metadata": {},
     "output_type": "execute_result"
    },
    {
     "data": {
      "image/png": "[encoded data removed]",
      "text/plain": [
       "<Figure size 432x288 with 1 Axes>"
      ]
     },
     "metadata": {
      "needs_background": "light"
     },
     "output_type": "display_data"
    }
   ],
   "source": [
    "sns.barplot(x='Age_Bin',y='UltimateIncurredClaimCost',data=Train_Dataset)"
   ]
  },
  {
   "cell_type": "markdown",
   "id": "671df164",
   "metadata": {
    "id": "671df164"
   },
   "source": [
    "##### The old age group people (50-80) got more total claims payments by the insurance company. "
   ]
  },
  {
   "cell_type": "code",
   "execution_count": null,
   "id": "74c369ad",
   "metadata": {
    "colab": {
     "base_uri": "https://localhost:8080/",
     "height": 296
    },
    "id": "74c369ad",
    "outputId": "b02323c9-d72f-47e2-b7e8-09cd69ec33f3"
   },
   "outputs": [
    {
     "data": {
      "text/plain": [
       "<matplotlib.axes._subplots.AxesSubplot at 0x7f75a8cb6310>"
      ]
     },
     "execution_count": 55,
     "metadata": {},
     "output_type": "execute_result"
    },
    {
     "data": {
      "image/png": "[encoded data removed]",
      "text/plain": [
       "<Figure size 432x288 with 1 Axes>"
      ]
     },
     "metadata": {
      "needs_background": "light"
     },
     "output_type": "display_data"
    }
   ],
   "source": [
    "#plt.figure(figsize=(10,5))\n",
    "sns.barplot(x='DependentChildren',y='UltimateIncurredClaimCost',data=Train_Dataset)\n",
    "#plt.show()"
   ]
  },
  {
   "cell_type": "markdown",
   "id": "92791dd9",
   "metadata": {
    "id": "92791dd9"
   },
   "source": [
    "##### People who have more number of children as dependents got more insurance payments from the insurance company."
   ]
  },
  {
   "cell_type": "code",
   "execution_count": null,
   "id": "eb8ba1ba",
   "metadata": {
    "colab": {
     "base_uri": "https://localhost:8080/",
     "height": 296
    },
    "id": "eb8ba1ba",
    "outputId": "77dee805-5521-47fe-94cf-2918b45600c3"
   },
   "outputs": [
    {
     "data": {
      "text/plain": [
       "<matplotlib.axes._subplots.AxesSubplot at 0x7f75a8be8d50>"
      ]
     },
     "execution_count": 56,
     "metadata": {},
     "output_type": "execute_result"
    },
    {
     "data": {
      "image/png": "[encoded data removed]",
      "text/plain": [
       "<Figure size 432x288 with 1 Axes>"
      ]
     },
     "metadata": {
      "needs_background": "light"
     },
     "output_type": "display_data"
    }
   ],
   "source": [
    "sns.barplot(x='DependentsOther',y='UltimateIncurredClaimCost',data=Train_Dataset)"
   ]
  },
  {
   "cell_type": "code",
   "execution_count": null,
   "id": "f14cc620",
   "metadata": {
    "colab": {
     "base_uri": "https://localhost:8080/",
     "height": 352
    },
    "id": "f14cc620",
    "outputId": "b3d87ab9-b05c-4030-a00e-28771d280d19"
   },
   "outputs": [
    {
     "data": {
      "text/plain": [
       "<matplotlib.axes._subplots.AxesSubplot at 0x7f75a8bbf410>"
      ]
     },
     "execution_count": 57,
     "metadata": {},
     "output_type": "execute_result"
    },
    {
     "data": {
      "image/png": "[encoded data removed]",
      "text/plain": [
       "<Figure size 720x360 with 1 Axes>"
      ]
     },
     "metadata": {
      "needs_background": "light"
     },
     "output_type": "display_data"
    }
   ],
   "source": [
    "plt.figure(figsize=(10,5))\n",
    "sns.barplot(x='WeeklyWages_Bin',y='InitialIncurredCalimsCost',data=Train_Dataset)"
   ]
  },
  {
   "cell_type": "markdown",
   "id": "dbb6cdc0",
   "metadata": {
    "id": "dbb6cdc0"
   },
   "source": [
    "##### People whose wages are above average claimed for more claim cost. "
   ]
  },
  {
   "cell_type": "code",
   "execution_count": null,
   "id": "94bf08c4",
   "metadata": {
    "colab": {
     "base_uri": "https://localhost:8080/",
     "height": 352
    },
    "id": "94bf08c4",
    "outputId": "512a2830-5370-4854-ffa1-2b8a66066b67",
    "scrolled": true
   },
   "outputs": [
    {
     "data": {
      "text/plain": [
       "<matplotlib.axes._subplots.AxesSubplot at 0x7f75a8af23d0>"
      ]
     },
     "execution_count": 58,
     "metadata": {},
     "output_type": "execute_result"
    },
    {
     "data": {
      "image/png": "[encoded data removed]",
      "text/plain": [
       "<Figure size 720x360 with 1 Axes>"
      ]
     },
     "metadata": {
      "needs_background": "light"
     },
     "output_type": "display_data"
    }
   ],
   "source": [
    "plt.figure(figsize=(10,5))\n",
    "sns.barplot(x='WeeklyWages_Bin',y='UltimateIncurredClaimCost',data=Train_Dataset)"
   ]
  },
  {
   "cell_type": "markdown",
   "id": "081c25bf",
   "metadata": {
    "id": "081c25bf"
   },
   "source": [
    "##### People who's wages are below average and above average got more total claims payments by the insurance company."
   ]
  },
  {
   "cell_type": "code",
   "execution_count": null,
   "id": "35be0c48",
   "metadata": {
    "colab": {
     "base_uri": "https://localhost:8080/",
     "height": 351
    },
    "id": "35be0c48",
    "outputId": "45f991f1-aad4-4f2b-d993-bdb81463574a"
   },
   "outputs": [
    {
     "data": {
      "text/plain": [
       "<matplotlib.axes._subplots.AxesSubplot at 0x7f75a8ac8790>"
      ]
     },
     "execution_count": 59,
     "metadata": {},
     "output_type": "execute_result"
    },
    {
     "data": {
      "image/png": "[encoded data removed]",
      "text/plain": [
       "<Figure size 720x360 with 1 Axes>"
      ]
     },
     "metadata": {
      "needs_background": "light"
     },
     "output_type": "display_data"
    }
   ],
   "source": [
    "plt.figure(figsize=(10,5))\n",
    "sns.barplot(x='DaysWorkedPerWeek',y='UltimateIncurredClaimCost',data=Train_Dataset)"
   ]
  },
  {
   "cell_type": "code",
   "execution_count": null,
   "id": "fef3b8ac",
   "metadata": {
    "colab": {
     "base_uri": "https://localhost:8080/",
     "height": 513
    },
    "id": "fef3b8ac",
    "outputId": "e786b48d-83ef-4880-b9e0-e113388a5ad7"
   },
   "outputs": [
    {
     "data": {
      "text/html": [
       "\n",
       "  <div id=\"df-05806293-b88d-4cd1-a340-64dbde5e1061\">\n",
       "    <div class=\"colab-df-container\">\n",
       "      <div>\n",
       "<style scoped>\n",
       "    .dataframe tbody tr th:only-of-type {\n",
       "        vertical-align: middle;\n",
       "    }\n",
       "\n",
       "    .dataframe tbody tr th {\n",
       "        vertical-align: top;\n",
       "    }\n",
       "\n",
       "    .dataframe thead th {\n",
       "        text-align: right;\n",
       "    }\n",
       "</style>\n",
       "<table border=\"1\" class=\"dataframe\">\n",
       "  <thead>\n",
       "    <tr style=\"text-align: right;\">\n",
       "      <th></th>\n",
       "      <th>ClaimNumber</th>\n",
       "      <th>DateTimeOfAccident</th>\n",
       "      <th>DateReported</th>\n",
       "      <th>Age</th>\n",
       "      <th>Gender</th>\n",
       "      <th>MaritalStatus</th>\n",
       "      <th>DependentChildren</th>\n",
       "      <th>DependentsOther</th>\n",
       "      <th>PartTimeFullTime</th>\n",
       "      <th>ClaimDescription</th>\n",
       "      <th>InitialIncurredCalimsCost</th>\n",
       "      <th>UltimateIncurredClaimCost</th>\n",
       "    </tr>\n",
       "  </thead>\n",
       "  <tbody>\n",
       "    <tr>\n",
       "      <th>1</th>\n",
       "      <td>WC6982224</td>\n",
       "      <td>1999-01-07T11:00:00Z</td>\n",
       "      <td>1999-01-20T00:00:00Z</td>\n",
       "      <td>43</td>\n",
       "      <td>F</td>\n",
       "      <td>M</td>\n",
       "      <td>0</td>\n",
       "      <td>0</td>\n",
       "      <td>F</td>\n",
       "      <td>STEPPED AROUND CRATES AND TRUCK TRAY FRACTURE ...</td>\n",
       "      <td>5500</td>\n",
       "      <td>6326.285819</td>\n",
       "    </tr>\n",
       "    <tr>\n",
       "      <th>2</th>\n",
       "      <td>WC5481426</td>\n",
       "      <td>1996-03-25T00:00:00Z</td>\n",
       "      <td>1996-04-14T00:00:00Z</td>\n",
       "      <td>30</td>\n",
       "      <td>M</td>\n",
       "      <td>U</td>\n",
       "      <td>0</td>\n",
       "      <td>0</td>\n",
       "      <td>F</td>\n",
       "      <td>CUT ON SHARP EDGE CUT LEFT THUMB</td>\n",
       "      <td>1700</td>\n",
       "      <td>2293.949087</td>\n",
       "    </tr>\n",
       "    <tr>\n",
       "      <th>3</th>\n",
       "      <td>WC9775968</td>\n",
       "      <td>2005-06-22T13:00:00Z</td>\n",
       "      <td>2005-07-22T00:00:00Z</td>\n",
       "      <td>41</td>\n",
       "      <td>M</td>\n",
       "      <td>S</td>\n",
       "      <td>0</td>\n",
       "      <td>0</td>\n",
       "      <td>F</td>\n",
       "      <td>DIGGING LOWER BACK LOWER BACK STRAIN</td>\n",
       "      <td>15000</td>\n",
       "      <td>17786.487170</td>\n",
       "    </tr>\n",
       "    <tr>\n",
       "      <th>4</th>\n",
       "      <td>WC2634037</td>\n",
       "      <td>1990-08-29T08:00:00Z</td>\n",
       "      <td>1990-09-27T00:00:00Z</td>\n",
       "      <td>36</td>\n",
       "      <td>M</td>\n",
       "      <td>M</td>\n",
       "      <td>0</td>\n",
       "      <td>0</td>\n",
       "      <td>F</td>\n",
       "      <td>REACHING ABOVE SHOULDER LEVEL ACUTE MUSCLE STR...</td>\n",
       "      <td>2800</td>\n",
       "      <td>4014.002925</td>\n",
       "    </tr>\n",
       "    <tr>\n",
       "      <th>5</th>\n",
       "      <td>WC6828422</td>\n",
       "      <td>1999-06-21T11:00:00Z</td>\n",
       "      <td>1999-09-09T00:00:00Z</td>\n",
       "      <td>50</td>\n",
       "      <td>M</td>\n",
       "      <td>M</td>\n",
       "      <td>0</td>\n",
       "      <td>0</td>\n",
       "      <td>F</td>\n",
       "      <td>STRUCK HEAD ON HEAD LACERATED HEAD</td>\n",
       "      <td>500</td>\n",
       "      <td>598.762315</td>\n",
       "    </tr>\n",
       "  </tbody>\n",
       "</table>\n",
       "</div>\n",
       "      <button class=\"colab-df-convert\" onclick=\"convertToInteractive('df-05806293-b88d-4cd1-a340-64dbde5e1061')\"\n",
       "              title=\"Convert this dataframe to an interactive table.\"\n",
       "              style=\"display:none;\">\n",
       "        \n",
       "  <svg xmlns=\"http://www.w3.org/2000/svg\" height=\"24px\"viewBox=\"0 0 24 24\"\n",
       "       width=\"24px\">\n",
       "    <path d=\"M0 0h24v24H0V0z\" fill=\"none\"/>\n",
       "    <path d=\"M18.56 5.44l.94 2.06.94-2.06 2.06-.94-2.06-.94-.94-2.06-.94 2.06-2.06.94zm-11 1L8.5 8.5l.94-2.06 2.06-.94-2.06-.94L8.5 2.5l-.94 2.06-2.06.94zm10 10l.94 2.06.94-2.06 2.06-.94-2.06-.94-.94-2.06-.94 2.06-2.06.94z\"/><path d=\"M17.41 7.96l-1.37-1.37c-.4-.4-.92-.59-1.43-.59-.52 0-1.04.2-1.43.59L10.3 9.45l-7.72 7.72c-.78.78-.78 2.05 0 2.83L4 21.41c.39.39.9.59 1.41.59.51 0 1.02-.2 1.41-.59l7.78-7.78 2.81-2.81c.8-.78.8-2.07 0-2.86zM5.41 20L4 18.59l7.72-7.72 1.47 1.35L5.41 20z\"/>\n",
       "  </svg>\n",
       "      </button>\n",
       "      \n",
       "  <style>\n",
       "    .colab-df-container {\n",
       "      display:flex;\n",
       "      flex-wrap:wrap;\n",
       "      gap: 12px;\n",
       "    }\n",
       "\n",
       "    .colab-df-convert {\n",
       "      background-color: #E8F0FE;\n",
       "      border: none;\n",
       "      border-radius: 50%;\n",
       "      cursor: pointer;\n",
       "      display: none;\n",
       "      fill: #1967D2;\n",
       "      height: 32px;\n",
       "      padding: 0 0 0 0;\n",
       "      width: 32px;\n",
       "    }\n",
       "\n",
       "    .colab-df-convert:hover {\n",
       "      background-color: #E2EBFA;\n",
       "      box-shadow: 0px 1px 2px rgba(60, 64, 67, 0.3), 0px 1px 3px 1px rgba(60, 64, 67, 0.15);\n",
       "      fill: #174EA6;\n",
       "    }\n",
       "\n",
       "    [theme=dark] .colab-df-convert {\n",
       "      background-color: #3B4455;\n",
       "      fill: #D2E3FC;\n",
       "    }\n",
       "\n",
       "    [theme=dark] .colab-df-convert:hover {\n",
       "      background-color: #434B5C;\n",
       "      box-shadow: 0px 1px 3px 1px rgba(0, 0, 0, 0.15);\n",
       "      filter: drop-shadow(0px 1px 2px rgba(0, 0, 0, 0.3));\n",
       "      fill: #FFFFFF;\n",
       "    }\n",
       "  </style>\n",
       "\n",
       "      <script>\n",
       "        const buttonEl =\n",
       "          document.querySelector('#df-05806293-b88d-4cd1-a340-64dbde5e1061 button.colab-df-convert');\n",
       "        buttonEl.style.display =\n",
       "          google.colab.kernel.accessAllowed ? 'block' : 'none';\n",
       "\n",
       "        async function convertToInteractive(key) {\n",
       "          const element = document.querySelector('#df-05806293-b88d-4cd1-a340-64dbde5e1061');\n",
       "          const dataTable =\n",
       "            await google.colab.kernel.invokeFunction('convertToInteractive',\n",
       "                                                     [key], {});\n",
       "          if (!dataTable) return;\n",
       "\n",
       "          const docLinkHtml = 'Like what you see? Visit the ' +\n",
       "            '<a target=\"_blank\" href=https://colab.research.google.com/notebooks/data_table.ipynb>data table notebook</a>'\n",
       "            + ' to learn more about interactive tables.';\n",
       "          element.innerHTML = '';\n",
       "          dataTable['output_type'] = 'display_data';\n",
       "          await google.colab.output.renderOutput(dataTable, element);\n",
       "          const docLink = document.createElement('div');\n",
       "          docLink.innerHTML = docLinkHtml;\n",
       "          element.appendChild(docLink);\n",
       "        }\n",
       "      </script>\n",
       "    </div>\n",
       "  </div>\n",
       "  "
      ],
      "text/plain": [
       "  ClaimNumber    DateTimeOfAccident          DateReported  Age Gender  \\\n",
       "1   WC6982224  1999-01-07T11:00:00Z  1999-01-20T00:00:00Z   43      F   \n",
       "2   WC5481426  1996-03-25T00:00:00Z  1996-04-14T00:00:00Z   30      M   \n",
       "3   WC9775968  2005-06-22T13:00:00Z  2005-07-22T00:00:00Z   41      M   \n",
       "4   WC2634037  1990-08-29T08:00:00Z  1990-09-27T00:00:00Z   36      M   \n",
       "5   WC6828422  1999-06-21T11:00:00Z  1999-09-09T00:00:00Z   50      M   \n",
       "\n",
       "  MaritalStatus  DependentChildren  DependentsOther PartTimeFullTime  \\\n",
       "1             M                  0                0                F   \n",
       "2             U                  0                0                F   \n",
       "3             S                  0                0                F   \n",
       "4             M                  0                0                F   \n",
       "5             M                  0                0                F   \n",
       "\n",
       "                                    ClaimDescription  \\\n",
       "1  STEPPED AROUND CRATES AND TRUCK TRAY FRACTURE ...   \n",
       "2                   CUT ON SHARP EDGE CUT LEFT THUMB   \n",
       "3               DIGGING LOWER BACK LOWER BACK STRAIN   \n",
       "4  REACHING ABOVE SHOULDER LEVEL ACUTE MUSCLE STR...   \n",
       "5                 STRUCK HEAD ON HEAD LACERATED HEAD   \n",
       "\n",
       "   InitialIncurredCalimsCost  UltimateIncurredClaimCost  \n",
       "1                       5500                6326.285819  \n",
       "2                       1700                2293.949087  \n",
       "3                      15000               17786.487170  \n",
       "4                       2800                4014.002925  \n",
       "5                        500                 598.762315  "
      ]
     },
     "execution_count": 60,
     "metadata": {},
     "output_type": "execute_result"
    }
   ],
   "source": [
    "Train_Dataset_drop=Train_Dataset.drop(columns=['WeeklyWages', 'WeeklyWages_Bin','HoursWorkedPerWeek','DaysWorkedPerWeek','Age_Bin'])\n",
    "Train_Dataset_drop.head()"
   ]
  },
  {
   "cell_type": "code",
   "execution_count": null,
   "id": "54640643",
   "metadata": {
    "colab": {
     "base_uri": "https://localhost:8080/",
     "height": 448
    },
    "id": "54640643",
    "outputId": "ac0cb2f7-fa5e-4814-b2ac-957d90b7c452"
   },
   "outputs": [
    {
     "data": {
      "image/png": "[encoded data removed]",
      "text/plain": [
       "<Figure size 720x360 with 2 Axes>"
      ]
     },
     "metadata": {
      "needs_background": "light"
     },
     "output_type": "display_data"
    }
   ],
   "source": [
    "plt.figure(figsize=(10,5))\n",
    "sns.heatmap(Train_Dataset_drop[['ClaimNumber', 'DateTimeOfAccident', 'DateReported', 'Age', 'DependentChildren', \n",
    "       'DependentsOther','InitialIncurredCalimsCost', 'UltimateIncurredClaimCost', ]].corr(),annot=True)\n",
    "plt.show()"
   ]
  },
  {
   "cell_type": "markdown",
   "id": "03931518",
   "metadata": {
    "id": "03931518"
   },
   "source": [
    "##### There is no correlation between the numerical columns.\n",
    "\n"
   ]
  },
  {
   "cell_type": "code",
   "execution_count": null,
   "id": "cb397a78",
   "metadata": {
    "colab": {
     "base_uri": "https://localhost:8080/",
     "height": 351
    },
    "id": "cb397a78",
    "outputId": "dcc03b05-f013-4561-f670-633150f231cb"
   },
   "outputs": [
    {
     "data": {
      "text/plain": [
       "<matplotlib.axes._subplots.AxesSubplot at 0x7f75a8976a90>"
      ]
     },
     "execution_count": 62,
     "metadata": {},
     "output_type": "execute_result"
    },
    {
     "data": {
      "image/png": "[encoded data removed]",
      "text/plain": [
       "<Figure size 720x360 with 1 Axes>"
      ]
     },
     "metadata": {
      "needs_background": "light"
     },
     "output_type": "display_data"
    }
   ],
   "source": [
    "plt.figure(figsize=(10,5))\n",
    "sns.boxplot(x='UltimateIncurredClaimCost', y='Age_Bin',data=Train_Dataset)"
   ]
  },
  {
   "cell_type": "markdown",
   "id": "299391ef",
   "metadata": {
    "id": "299391ef"
   },
   "source": [
    "## 3. Outlier Analysis"
   ]
  },
  {
   "cell_type": "code",
   "execution_count": null,
   "id": "a31e7656",
   "metadata": {
    "colab": {
     "base_uri": "https://localhost:8080/",
     "height": 265
    },
    "id": "a31e7656",
    "outputId": "2d194de9-8c69-4ee8-917b-a773a7a4c3f5"
   },
   "outputs": [
    {
     "data": {
      "text/plain": [
       "<matplotlib.axes._subplots.AxesSubplot at 0x7f75a89d9c90>"
      ]
     },
     "execution_count": 63,
     "metadata": {},
     "output_type": "execute_result"
    },
    {
     "data": {
      "image/png": "[encoded data removed]",
      "text/plain": [
       "<Figure size 1440x360 with 1 Axes>"
      ]
     },
     "metadata": {
      "needs_background": "light"
     },
     "output_type": "display_data"
    }
   ],
   "source": [
    "plt.figure(figsize=(20,5))\n",
    "sns.boxplot(data=Train_Dataset_drop)"
   ]
  },
  {
   "cell_type": "code",
   "execution_count": null,
   "id": "12adeb7c",
   "metadata": {
    "colab": {
     "base_uri": "https://localhost:8080/"
    },
    "id": "12adeb7c",
    "outputId": "f6ade629-ec6b-40de-f84b-696be7a9fa7a"
   },
   "outputs": [
    {
     "data": {
      "text/plain": [
       "(53999, 12)"
      ]
     },
     "execution_count": 64,
     "metadata": {},
     "output_type": "execute_result"
    }
   ],
   "source": [
    "Train_Dataset_drop.shape"
   ]
  },
  {
   "cell_type": "markdown",
   "id": "549bae30",
   "metadata": {
    "id": "549bae30"
   },
   "source": [
    "##### From the above boxplot we can see that there are a lot of outliers in \"InitialIncurredCalimsCost\" and \"UltimateIncurredClaimCost\"."
   ]
  },
  {
   "cell_type": "code",
   "execution_count": null,
   "id": "31dc59c0",
   "metadata": {
    "id": "31dc59c0"
   },
   "outputs": [],
   "source": [
    "for i in range(4):\n",
    "\n",
    "    limit1=3*Train_Dataset_drop['InitialIncurredCalimsCost'].std()\n",
    "\n",
    "    lower_limit1=Train_Dataset_drop['InitialIncurredCalimsCost'].mean()-limit1\n",
    "    upper_limit1=Train_Dataset_drop['InitialIncurredCalimsCost'].mean()+limit1\n",
    "\n",
    "    Train_Dataset_drop=Train_Dataset_drop[(Train_Dataset_drop['InitialIncurredCalimsCost']>lower_limit1)&(Train_Dataset_drop['InitialIncurredCalimsCost']<upper_limit1)]\n",
    "\n",
    "    limit2=3*Train_Dataset_drop['UltimateIncurredClaimCost'].std()\n",
    "\n",
    "    lower_limit2=Train_Dataset_drop['UltimateIncurredClaimCost'].mean()-limit2\n",
    "    upper_limit2=Train_Dataset_drop['UltimateIncurredClaimCost'].mean()+limit2\n",
    "\n",
    "    Train_Dataset_drop=Train_Dataset_drop[(Train_Dataset_drop['UltimateIncurredClaimCost']>lower_limit2)&(Train_Dataset_drop['UltimateIncurredClaimCost']<upper_limit2)]"
   ]
  },
  {
   "cell_type": "code",
   "execution_count": null,
   "id": "1313edad",
   "metadata": {
    "colab": {
     "base_uri": "https://localhost:8080/",
     "height": 254
    },
    "id": "1313edad",
    "outputId": "50535b2a-ac1a-4736-f717-1356ab486a91"
   },
   "outputs": [
    {
     "data": {
      "text/plain": [
       "<matplotlib.axes._subplots.AxesSubplot at 0x7f75a88881d0>"
      ]
     },
     "execution_count": 66,
     "metadata": {},
     "output_type": "execute_result"
    },
    {
     "data": {
      "image/png": "[encoded data removed]",
      "text/plain": [
       "<Figure size 1440x360 with 1 Axes>"
      ]
     },
     "metadata": {
      "needs_background": "light"
     },
     "output_type": "display_data"
    }
   ],
   "source": [
    "plt.figure(figsize=(20,5))\n",
    "sns.boxplot(data=Train_Dataset_drop)"
   ]
  },
  {
   "cell_type": "markdown",
   "id": "9b262344",
   "metadata": {
    "id": "9b262344"
   },
   "source": [
    "## Machine Learning Models"
   ]
  },
  {
   "cell_type": "code",
   "execution_count": null,
   "id": "46bf624e",
   "metadata": {
    "id": "46bf624e"
   },
   "outputs": [],
   "source": [
    "#Importing the libraries for the modeling\n",
    "\n",
    "from sklearn.linear_model import LinearRegression\n",
    "import sklearn.preprocessing as pre\n",
    "from sklearn.preprocessing import LabelEncoder\n",
    "from sklearn.model_selection import train_test_split\n",
    "from sklearn.metrics import accuracy_score\n",
    "\n",
    "le=pre.LabelEncoder()\n"
   ]
  },
  {
   "cell_type": "code",
   "execution_count": null,
   "id": "f0608de0",
   "metadata": {
    "id": "f0608de0"
   },
   "outputs": [],
   "source": [
    "for x in Train_Dataset.select_dtypes(include='object').columns:\n",
    "    Train_Dataset[x]=le.fit_transform(Train_Dataset[x])"
   ]
  },
  {
   "cell_type": "code",
   "execution_count": null,
   "id": "59eec24c",
   "metadata": {
    "id": "59eec24c"
   },
   "outputs": [],
   "source": [
    "X_scale=Train_Dataset_drop.drop(['UltimateIncurredClaimCost'],axis='columns')\n",
    "cat_Train_Dataset=X_scale.select_dtypes(exclude=[float,int]).columns\n",
    "for i in cat_Train_Dataset :\n",
    "    X_scale[str(i)]=le.fit_transform(X_scale[str(i)])\n",
    "X_scale=X_scale.apply(pre.minmax_scale)\n",
    "Y=Train_Dataset_drop['UltimateIncurredClaimCost']"
   ]
  },
  {
   "cell_type": "markdown",
   "id": "lWIDhg8p-PNy",
   "metadata": {
    "id": "lWIDhg8p-PNy"
   },
   "source": [
    "Splitting the data into test and train data"
   ]
  },
  {
   "cell_type": "code",
   "execution_count": null,
   "id": "f23e9d4e",
   "metadata": {
    "id": "f23e9d4e"
   },
   "outputs": [],
   "source": [
    "#Splitting the data into test and train data\n",
    "x_train,x_test,y_train,y_test=train_test_split(X_scale,Y,test_size=0.3,random_state=42)"
   ]
  },
  {
   "cell_type": "markdown",
   "id": "O_5PYdUk-Sju",
   "metadata": {
    "id": "O_5PYdUk-Sju"
   },
   "source": [
    "checking the shape of the test and train set"
   ]
  },
  {
   "cell_type": "code",
   "execution_count": null,
   "id": "e38002d2",
   "metadata": {
    "colab": {
     "base_uri": "https://localhost:8080/"
    },
    "id": "e38002d2",
    "outputId": "898706dd-e03b-48e2-efc0-caab12810f9b"
   },
   "outputs": [
    {
     "data": {
      "text/plain": [
       "((31850, 11), (13650, 11), (31850,), (13650,))"
      ]
     },
     "execution_count": 71,
     "metadata": {},
     "output_type": "execute_result"
    }
   ],
   "source": [
    "#checking the shape of the test and train set\n",
    "x_train.shape,x_test.shape,y_train.shape,y_test.shape"
   ]
  },
  {
   "cell_type": "markdown",
   "id": "ctDcKZhj9_32",
   "metadata": {
    "id": "ctDcKZhj9_32"
   },
   "source": [
    "##1. Linear Regression Model"
   ]
  },
  {
   "cell_type": "code",
   "execution_count": null,
   "id": "ff793f05",
   "metadata": {
    "colab": {
     "base_uri": "https://localhost:8080/"
    },
    "id": "ff793f05",
    "outputId": "5e15e8ec-eb69-4d4d-be07-762137c6d3f7"
   },
   "outputs": [
    {
     "data": {
      "text/plain": [
       "LinearRegression()"
      ]
     },
     "execution_count": 72,
     "metadata": {},
     "output_type": "execute_result"
    }
   ],
   "source": [
    "import sklearn.linear_model as lm\n",
    "\n",
    "#creating the linear regression model\n",
    "firstmodel=lm.LinearRegression()\n",
    "\n",
    "#Fitting the model\n",
    "firstmodel.fit(x_train,y_train)\n"
   ]
  },
  {
   "cell_type": "code",
   "execution_count": null,
   "id": "oIQMXxA805co",
   "metadata": {
    "colab": {
     "base_uri": "https://localhost:8080/"
    },
    "id": "oIQMXxA805co",
    "outputId": "73c51d0b-6eb1-4022-b503-3db886e276ca"
   },
   "outputs": [
    {
     "name": "stdout",
     "output_type": "stream",
     "text": [
      "Training set accuracy:  0.6798255481178431\n",
      "Test set accuracy: 0.6854008835218999\n"
     ]
    }
   ],
   "source": [
    "#Checking the train score\n",
    "firstmodel.score(x_train,y_train)\n",
    "print(\"Training set accuracy: \", +(firstmodel.score(x_train, y_train)))\n",
    "\n",
    "#Checking the test score\n",
    "firstmodel.score(x_test,y_test)\n",
    "print(\"Test set accuracy:\" , +(firstmodel.score(x_test, y_test)))\n"
   ]
  },
  {
   "cell_type": "code",
   "execution_count": null,
   "id": "G-4WFRbf05f1",
   "metadata": {
    "colab": {
     "base_uri": "https://localhost:8080/"
    },
    "id": "G-4WFRbf05f1",
    "outputId": "71fb8142-9d0c-469c-b9ed-a4d03f71d7d1"
   },
   "outputs": [
    {
     "name": "stdout",
     "output_type": "stream",
     "text": [
      "The predict values are:\n",
      " [ 3191.13789665 10054.30742874  1981.2219766  ...  4914.80242607\n",
      "  1362.63235906  1414.83045855]\n"
     ]
    }
   ],
   "source": [
    "#Predictions on the test data set.\n",
    "y_pred = firstmodel.predict(x_test)\n",
    "\n",
    "print('The predict values are:\\n',y_pred)"
   ]
  },
  {
   "cell_type": "code",
   "execution_count": null,
   "id": "8520c6f8",
   "metadata": {
    "colab": {
     "base_uri": "https://localhost:8080/"
    },
    "id": "8520c6f8",
    "outputId": "738d0098-05bf-4972-8426-56bcfc3972c7"
   },
   "outputs": [
    {
     "name": "stdout",
     "output_type": "stream",
     "text": [
      "Linear Regression Model\n",
      "R^2 is:  0.6854008835218999\n",
      "MAE 1330.9105731217392\n",
      "MSE 3625104.373780617\n",
      "RMSE 1903.9706861663121\n",
      "RMSLE 7.551696819311737\n"
     ]
    }
   ],
   "source": [
    "import numpy as np\n",
    "from sklearn.metrics import mean_absolute_error\n",
    "from sklearn.metrics import mean_squared_error\n",
    "from sklearn.metrics import r2_score\n",
    "\n",
    "print('Linear Regression Model')\n",
    "\n",
    "# Checking the R squared(R2) value\n",
    "r2 = r2_score(y_test,y_pred)\n",
    "print(\"R^2 is: \" , r2)\n",
    "\n",
    "# Checking the Mean Absolute Error (MAE) value\n",
    "print(\"MAE\",mean_absolute_error(y_test,y_pred))\n",
    "\n",
    "# Checking the Mean Squared Error (MSE) value\n",
    "print(\"MSE\",mean_squared_error(y_test,y_pred))\n",
    "\n",
    "# Checking the Root Mean Squared Error (RMSE) value\n",
    "print(\"RMSE\",np.sqrt(mean_squared_error(y_test,y_pred)))\n",
    "\n",
    "#Checking Root Mean Squared Log Error(RMSLE)\n",
    "print(\"RMSLE\",np.log(np.sqrt(mean_squared_error(y_test,y_pred))))\n",
    "\n"
   ]
  },
  {
   "cell_type": "code",
   "execution_count": null,
   "id": "1fad3614",
   "metadata": {
    "colab": {
     "base_uri": "https://localhost:8080/",
     "height": 295
    },
    "id": "1fad3614",
    "outputId": "ff5e108d-3ccf-4cc5-e8d1-e774b7c65863"
   },
   "outputs": [
    {
     "data": {
      "image/png": "[encoded data removed]",
      "text/plain": [
       "<Figure size 432x288 with 1 Axes>"
      ]
     },
     "metadata": {
      "needs_background": "light"
     },
     "output_type": "display_data"
    }
   ],
   "source": [
    "#Plotting the scatter plot between the predicted value and the actual values\n",
    "actual_values = y_test\n",
    "plt.scatter(y_pred, actual_values, alpha=.7,\n",
    "            color='g')\n",
    "plt.xlabel('Predicted Value')\n",
    "plt.ylabel('Actual Value')\n",
    "plt.title('Linear Regression Model')\n",
    "plt.show()"
   ]
  },
  {
   "cell_type": "markdown",
   "id": "97f3c750",
   "metadata": {
    "id": "97f3c750"
   },
   "source": [
    "###2. Decision Tree Regression Model"
   ]
  },
  {
   "cell_type": "code",
   "execution_count": null,
   "id": "f5e8784c",
   "metadata": {
    "colab": {
     "base_uri": "https://localhost:8080/"
    },
    "id": "f5e8784c",
    "outputId": "ff5b529d-7be5-4f31-8f0d-bca9a2407c91"
   },
   "outputs": [
    {
     "data": {
      "text/plain": [
       "DecisionTreeRegressor()"
      ]
     },
     "execution_count": 77,
     "metadata": {},
     "output_type": "execute_result"
    }
   ],
   "source": [
    "#Importing the decision tree regressor\n",
    "from sklearn.tree import DecisionTreeRegressor\n",
    "\n",
    "# creating the model\n",
    "secondmodel= DecisionTreeRegressor()\n",
    "\n",
    "#Fitting the data \n",
    "secondmodel.fit(x_train, y_train)\n"
   ]
  },
  {
   "cell_type": "code",
   "execution_count": null,
   "id": "1TcCoTJk-d6B",
   "metadata": {
    "colab": {
     "base_uri": "https://localhost:8080/"
    },
    "id": "1TcCoTJk-d6B",
    "outputId": "1aa2157e-e337-4cba-cc21-d6707ff74801"
   },
   "outputs": [
    {
     "name": "stdout",
     "output_type": "stream",
     "text": [
      "Training set accuracy:  1.0\n",
      "Test set accuracy: 0.5186011162312603\n"
     ]
    }
   ],
   "source": [
    "#Checking the train score\n",
    "secondmodel.score(x_train,y_train)\n",
    "print(\"Training set accuracy: \", +(secondmodel.score(x_train, y_train)))\n",
    "\n",
    "#Checking the test score\n",
    "secondmodel.score(x_test,y_test)\n",
    "print(\"Test set accuracy:\" , +(secondmodel.score(x_test, y_test)))"
   ]
  },
  {
   "cell_type": "code",
   "execution_count": null,
   "id": "e3e80a0a",
   "metadata": {
    "colab": {
     "base_uri": "https://localhost:8080/"
    },
    "id": "e3e80a0a",
    "outputId": "de8b916d-986f-4092-80c1-327a2097f0bc"
   },
   "outputs": [
    {
     "name": "stdout",
     "output_type": "stream",
     "text": [
      "The predict values are:\n",
      " [5895.406111  8579.471902  2115.35383   ... 4848.11682    452.1326662\n",
      "  199.3743564]\n"
     ]
    }
   ],
   "source": [
    "# predicting the test set results\n",
    "y_pred1= secondmodel.predict(x_test)\n",
    "print('The predict values are:\\n',y_pred1)"
   ]
  },
  {
   "cell_type": "code",
   "execution_count": null,
   "id": "k9N3MyOmfIQm",
   "metadata": {
    "colab": {
     "base_uri": "https://localhost:8080/"
    },
    "id": "k9N3MyOmfIQm",
    "outputId": "6dc301da-c425-43a2-a49e-05fdd8239c5b"
   },
   "outputs": [
    {
     "name": "stdout",
     "output_type": "stream",
     "text": [
      "Decision Tree Regression Model\n",
      "R^2 is:  0.5186011162312603\n",
      "MAE 1483.7112169384102\n",
      "MSE 5547126.828007627\n",
      "RMSE 2355.2339221418383\n",
      "RMSLE 7.764395331514155\n"
     ]
    }
   ],
   "source": [
    "import numpy as np\n",
    "from sklearn.metrics import mean_absolute_error\n",
    "from sklearn.metrics import mean_squared_error\n",
    "from sklearn.metrics import r2_score\n",
    "\n",
    "print('Decision Tree Regression Model')\n",
    "\n",
    "\n",
    "# Checking the R squared(R2) value\n",
    "r2 = r2_score(y_test,y_pred1)\n",
    "print(\"R^2 is: \" , r2)\n",
    "\n",
    "# Checking the Mean Absolute Error (MAE) value\n",
    "print(\"MAE\",mean_absolute_error(y_test,y_pred1))\n",
    "\n",
    "# Checking the Mean Squared Error (MSE) value\n",
    "print(\"MSE\",mean_squared_error(y_test,y_pred1))\n",
    "\n",
    "# Checking the oot Mean Squared Error (RMSE) value\n",
    "print(\"RMSE\",np.sqrt(mean_squared_error(y_test,y_pred1)))\n",
    "\n",
    "#Checking Root Mean Squared Log Error(RMSLE)\n",
    "print(\"RMSLE\",np.log(np.sqrt(mean_squared_error(y_test,y_pred1))))"
   ]
  },
  {
   "cell_type": "markdown",
   "id": "2c6212eb",
   "metadata": {
    "id": "2c6212eb"
   },
   "source": [
    "### 3. Random Forest Regression Model"
   ]
  },
  {
   "cell_type": "code",
   "execution_count": null,
   "id": "28ccb0e0",
   "metadata": {
    "colab": {
     "base_uri": "https://localhost:8080/"
    },
    "id": "28ccb0e0",
    "outputId": "7e38e101-e81c-4d27-cedb-d6624d31ee84"
   },
   "outputs": [
    {
     "data": {
      "text/plain": [
       "RandomForestRegressor(n_estimators=10, random_state=0)"
      ]
     },
     "execution_count": 81,
     "metadata": {},
     "output_type": "execute_result"
    }
   ],
   "source": [
    "from sklearn.ensemble import RandomForestRegressor\n",
    "\n",
    "# creating the model\n",
    "thirdmodel = RandomForestRegressor(n_estimators = 10, random_state = 0)\n",
    "\n",
    "#Fitting the data \n",
    "thirdmodel.fit(x_train, y_train)"
   ]
  },
  {
   "cell_type": "code",
   "execution_count": null,
   "id": "jJ10giD1-tQg",
   "metadata": {
    "colab": {
     "base_uri": "https://localhost:8080/"
    },
    "id": "jJ10giD1-tQg",
    "outputId": "6c670d47-04fb-4b83-91d9-e50884d68327"
   },
   "outputs": [
    {
     "name": "stdout",
     "output_type": "stream",
     "text": [
      "Training set accuracy:  0.9509445717296763\n",
      "Test set accuracy: 0.726165582100248\n"
     ]
    }
   ],
   "source": [
    "#Checking the train score\n",
    "thirdmodel.score(x_train,y_train)\n",
    "print(\"Training set accuracy: \", +(thirdmodel.score(x_train, y_train)))\n",
    "\n",
    "#Checking the test score\n",
    "thirdmodel.score(x_test,y_test)\n",
    "print(\"Test set accuracy:\" , +(thirdmodel.score(x_test, y_test)))"
   ]
  },
  {
   "cell_type": "code",
   "execution_count": null,
   "id": "GN86DnsQdfvg",
   "metadata": {
    "colab": {
     "base_uri": "https://localhost:8080/"
    },
    "id": "GN86DnsQdfvg",
    "outputId": "8f1f0d51-a556-4d16-f0b2-e8302ad33f76"
   },
   "outputs": [
    {
     "name": "stdout",
     "output_type": "stream",
     "text": [
      "The predict values are:\n",
      " [3258.3329582  9237.0789959  1529.65064538 ... 7384.3224032   665.62826035\n",
      "  381.56254478]\n"
     ]
    }
   ],
   "source": [
    "# predicting the test set results\n",
    "y_pred2= thirdmodel.predict(x_test)\n",
    "print('The predict values are:\\n',y_pred2)"
   ]
  },
  {
   "cell_type": "code",
   "execution_count": null,
   "id": "JwNsOOrlfa3y",
   "metadata": {
    "colab": {
     "base_uri": "https://localhost:8080/"
    },
    "id": "JwNsOOrlfa3y",
    "outputId": "e1fca90c-cd28-4924-c93c-9602a623f981"
   },
   "outputs": [
    {
     "name": "stdout",
     "output_type": "stream",
     "text": [
      "Random Forest Regression Model\n",
      "R^2 is:  0.726165582100248\n",
      "MAE 1151.3787852244966\n",
      "MSE 3155375.504969554\n",
      "RMSE 1776.3376663713332\n",
      "RMSLE 7.482309032941516\n"
     ]
    }
   ],
   "source": [
    "import numpy as np\n",
    "from sklearn.metrics import mean_absolute_error\n",
    "from sklearn.metrics import mean_squared_error\n",
    "from sklearn.metrics import r2_score\n",
    "\n",
    "\n",
    "print('Random Forest Regression Model')\n",
    "\n",
    "\n",
    "# Checking the R squared(R2) value\n",
    "r2 = r2_score(y_test,y_pred2)\n",
    "print(\"R^2 is: \" , r2)\n",
    "\n",
    "# Checking the Mean Absolute Error (MAE) value\n",
    "print(\"MAE\",mean_absolute_error(y_test,y_pred2))\n",
    "\n",
    "# Checking the Mean Squared Error (MSE) value\n",
    "print(\"MSE\",mean_squared_error(y_test,y_pred2))\n",
    "\n",
    "# Checking the oot Mean Squared Error (RMSE) value\n",
    "print(\"RMSE\",np.sqrt(mean_squared_error(y_test,y_pred2)))\n",
    "\n",
    "#Checking Root Mean Squared Log Error(RMSLE)\n",
    "print(\"RMSLE\",np.log(np.sqrt(mean_squared_error(y_test,y_pred2))))"
   ]
  },
  {
   "cell_type": "markdown",
   "id": "dlxAzZ0Kkqkc",
   "metadata": {
    "id": "dlxAzZ0Kkqkc"
   },
   "source": [
    "## 4. Support Vector Regression (SVM)"
   ]
  },
  {
   "cell_type": "code",
   "execution_count": null,
   "id": "nQeJtFn-iixU",
   "metadata": {
    "colab": {
     "base_uri": "https://localhost:8080/"
    },
    "id": "nQeJtFn-iixU",
    "outputId": "1588d3a1-03ec-46b4-eee3-92fb372a1dcd"
   },
   "outputs": [
    {
     "data": {
      "text/plain": [
       "SVR()"
      ]
     },
     "execution_count": 85,
     "metadata": {},
     "output_type": "execute_result"
    }
   ],
   "source": [
    "from sklearn.svm import SVR\n",
    "\n",
    "# creating the model\n",
    "fourthmodel = SVR()\n",
    "\n",
    "# fitting the training data to the model\n",
    "fourthmodel.fit(x_train, y_train)"
   ]
  },
  {
   "cell_type": "code",
   "execution_count": null,
   "id": "NLCwigvV_LJ0",
   "metadata": {
    "colab": {
     "base_uri": "https://localhost:8080/"
    },
    "id": "NLCwigvV_LJ0",
    "outputId": "7d975789-29fb-411d-b0ce-af7a65ac6e49"
   },
   "outputs": [
    {
     "name": "stdout",
     "output_type": "stream",
     "text": [
      "Training set accuracy:  0.1949175403714759\n",
      "Test set accuracy: 0.19737410156975255\n"
     ]
    }
   ],
   "source": [
    "#Checking the train score\n",
    "fourthmodel.score(x_train,y_train)\n",
    "print(\"Training set accuracy: \", +(fourthmodel.score(x_train, y_train)))\n",
    "\n",
    "#Checking the test score\n",
    "fourthmodel.score(x_test,y_test)\n",
    "print(\"Test set accuracy:\" , +(fourthmodel.score(x_test, y_test)))"
   ]
  },
  {
   "cell_type": "code",
   "execution_count": null,
   "id": "FlGoyXbL_SzF",
   "metadata": {
    "colab": {
     "base_uri": "https://localhost:8080/"
    },
    "id": "FlGoyXbL_SzF",
    "outputId": "269acd55-468b-4fd9-b430-3f0ab5e078e2"
   },
   "outputs": [
    {
     "name": "stdout",
     "output_type": "stream",
     "text": [
      "The predict values are:\n",
      " [2452.52791317 4075.1819088  2213.84214469 ... 2859.12818538 1812.74217266\n",
      " 1989.50855096]\n"
     ]
    }
   ],
   "source": [
    "# predicting the test set results\n",
    "y_pred3 = fourthmodel.predict(x_test)\n",
    "print('The predict values are:\\n',y_pred3)"
   ]
  },
  {
   "cell_type": "code",
   "execution_count": null,
   "id": "3cNZFVJLi5gV",
   "metadata": {
    "colab": {
     "base_uri": "https://localhost:8080/"
    },
    "id": "3cNZFVJLi5gV",
    "outputId": "ac51eca8-6e47-46ef-cef3-c375b14e5022"
   },
   "outputs": [
    {
     "name": "stdout",
     "output_type": "stream",
     "text": [
      "Support Vector Machine Regression Model\n",
      "R^2 is:  0.19737410156975255\n",
      "MAE 2148.6818928548455\n",
      "MSE 9248604.024962768\n",
      "RMSE 3041.1517596073313\n",
      "RMSLE 8.019991590939684\n"
     ]
    }
   ],
   "source": [
    "import numpy as np\n",
    "from sklearn.metrics import mean_absolute_error\n",
    "from sklearn.metrics import mean_squared_error\n",
    "from sklearn.metrics import r2_score\n",
    "\n",
    "print('Support Vector Machine Regression Model')\n",
    "\n",
    "\n",
    "# Checking the R squared(R2) value\n",
    "r2 = r2_score(y_test,y_pred3)\n",
    "print(\"R^2 is: \" , r2)\n",
    "\n",
    "# Checking the Mean Absolute Error (MAE) value\n",
    "print(\"MAE\",mean_absolute_error(y_test,y_pred3))\n",
    "\n",
    "# Checking the Mean Squared Error (MSE) value\n",
    "print(\"MSE\",mean_squared_error(y_test,y_pred3))\n",
    "\n",
    "# Checking the oot Mean Squared Error (RMSE) value\n",
    "print(\"RMSE\",np.sqrt(mean_squared_error(y_test,y_pred3)))\n",
    "\n",
    "#Checking Root Mean Squared Log Error(RMSLE)\n",
    "print(\"RMSLE\",np.log(np.sqrt(mean_squared_error(y_test,y_pred3))))"
   ]
  },
  {
   "cell_type": "markdown",
   "id": "ktgJ9HnjNTLO",
   "metadata": {
    "id": "ktgJ9HnjNTLO"
   },
   "source": [
    "#### Comparision of All 4 Models Training, Test Score, R2 and RMSE"
   ]
  },
  {
   "cell_type": "markdown",
   "id": "ZdqnJEZXtwiX",
   "metadata": {
    "id": "ZdqnJEZXtwiX"
   },
   "source": [
    "\n",
    "\n",
    "![image.png](data:image/png;base64,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)"
   ]
  },
  {
   "cell_type": "markdown",
   "id": "008ba62e",
   "metadata": {
    "id": "008ba62e"
   },
   "source": [
    "### Working on Test Data"
   ]
  },
  {
   "cell_type": "code",
   "execution_count": null,
   "id": "7a80e29b",
   "metadata": {
    "id": "7a80e29b"
   },
   "outputs": [],
   "source": [
    "Test_Dataset=pd.read_csv(\"/content/Test.csv\")"
   ]
  },
  {
   "cell_type": "code",
   "execution_count": null,
   "id": "81433beb",
   "metadata": {
    "colab": {
     "base_uri": "https://localhost:8080/"
    },
    "id": "81433beb",
    "outputId": "4ad1674e-6eb8-4c1b-ca67-26f45b9c0a6a"
   },
   "outputs": [
    {
     "name": "stdout",
     "output_type": "stream",
     "text": [
      "<class 'pandas.core.frame.DataFrame'>\n",
      "RangeIndex: 36000 entries, 0 to 35999\n",
      "Data columns (total 14 columns):\n",
      " #   Column                     Non-Null Count  Dtype  \n",
      "---  ------                     --------------  -----  \n",
      " 0   ClaimNumber                36000 non-null  object \n",
      " 1   DateTimeOfAccident         36000 non-null  object \n",
      " 2   DateReported               36000 non-null  object \n",
      " 3   Age                        36000 non-null  int64  \n",
      " 4   Gender                     36000 non-null  object \n",
      " 5   MaritalStatus              35982 non-null  object \n",
      " 6   DependentChildren          36000 non-null  int64  \n",
      " 7   DependentsOther            36000 non-null  int64  \n",
      " 8   WeeklyWages                36000 non-null  float64\n",
      " 9   PartTimeFullTime           36000 non-null  object \n",
      " 10  HoursWorkedPerWeek         36000 non-null  float64\n",
      " 11  DaysWorkedPerWeek          36000 non-null  int64  \n",
      " 12  ClaimDescription           36000 non-null  object \n",
      " 13  InitialIncurredCalimsCost  36000 non-null  int64  \n",
      "dtypes: float64(2), int64(5), object(7)\n",
      "memory usage: 3.8+ MB\n"
     ]
    }
   ],
   "source": [
    "#Checking information on test data\n",
    "Test_Dataset.info()"
   ]
  },
  {
   "cell_type": "code",
   "execution_count": null,
   "id": "7fab1e28",
   "metadata": {
    "colab": {
     "base_uri": "https://localhost:8080/",
     "height": 365
    },
    "id": "7fab1e28",
    "outputId": "866e3369-81d4-4cb2-c7f8-f6c23369157e"
   },
   "outputs": [
    {
     "data": {
      "text/html": [
       "\n",
       "  <div id=\"df-55478345-2b4a-43be-b212-0488677c59c9\">\n",
       "    <div class=\"colab-df-container\">\n",
       "      <div>\n",
       "<style scoped>\n",
       "    .dataframe tbody tr th:only-of-type {\n",
       "        vertical-align: middle;\n",
       "    }\n",
       "\n",
       "    .dataframe tbody tr th {\n",
       "        vertical-align: top;\n",
       "    }\n",
       "\n",
       "    .dataframe thead th {\n",
       "        text-align: right;\n",
       "    }\n",
       "</style>\n",
       "<table border=\"1\" class=\"dataframe\">\n",
       "  <thead>\n",
       "    <tr style=\"text-align: right;\">\n",
       "      <th></th>\n",
       "      <th>Age</th>\n",
       "      <th>DependentChildren</th>\n",
       "      <th>DependentsOther</th>\n",
       "      <th>WeeklyWages</th>\n",
       "      <th>HoursWorkedPerWeek</th>\n",
       "      <th>DaysWorkedPerWeek</th>\n",
       "      <th>InitialIncurredCalimsCost</th>\n",
       "    </tr>\n",
       "  </thead>\n",
       "  <tbody>\n",
       "    <tr>\n",
       "      <th>count</th>\n",
       "      <td>36000.000000</td>\n",
       "      <td>36000.000000</td>\n",
       "      <td>36000.000000</td>\n",
       "      <td>36000.00000</td>\n",
       "      <td>36000.000000</td>\n",
       "      <td>36000.000000</td>\n",
       "      <td>36000.000000</td>\n",
       "    </tr>\n",
       "    <tr>\n",
       "      <th>mean</th>\n",
       "      <td>33.856556</td>\n",
       "      <td>0.120000</td>\n",
       "      <td>0.009611</td>\n",
       "      <td>416.37745</td>\n",
       "      <td>37.758841</td>\n",
       "      <td>4.912417</td>\n",
       "      <td>7679.306889</td>\n",
       "    </tr>\n",
       "    <tr>\n",
       "      <th>std</th>\n",
       "      <td>12.124416</td>\n",
       "      <td>0.522437</td>\n",
       "      <td>0.108357</td>\n",
       "      <td>242.49109</td>\n",
       "      <td>11.951296</td>\n",
       "      <td>0.540451</td>\n",
       "      <td>17501.991600</td>\n",
       "    </tr>\n",
       "    <tr>\n",
       "      <th>min</th>\n",
       "      <td>13.000000</td>\n",
       "      <td>0.000000</td>\n",
       "      <td>0.000000</td>\n",
       "      <td>1.00000</td>\n",
       "      <td>0.000000</td>\n",
       "      <td>1.000000</td>\n",
       "      <td>1.000000</td>\n",
       "    </tr>\n",
       "    <tr>\n",
       "      <th>25%</th>\n",
       "      <td>23.000000</td>\n",
       "      <td>0.000000</td>\n",
       "      <td>0.000000</td>\n",
       "      <td>200.00000</td>\n",
       "      <td>38.000000</td>\n",
       "      <td>5.000000</td>\n",
       "      <td>650.000000</td>\n",
       "    </tr>\n",
       "    <tr>\n",
       "      <th>50%</th>\n",
       "      <td>32.000000</td>\n",
       "      <td>0.000000</td>\n",
       "      <td>0.000000</td>\n",
       "      <td>395.18500</td>\n",
       "      <td>38.000000</td>\n",
       "      <td>5.000000</td>\n",
       "      <td>2000.000000</td>\n",
       "    </tr>\n",
       "    <tr>\n",
       "      <th>75%</th>\n",
       "      <td>43.000000</td>\n",
       "      <td>0.000000</td>\n",
       "      <td>0.000000</td>\n",
       "      <td>500.00000</td>\n",
       "      <td>40.000000</td>\n",
       "      <td>5.000000</td>\n",
       "      <td>9500.000000</td>\n",
       "    </tr>\n",
       "    <tr>\n",
       "      <th>max</th>\n",
       "      <td>80.000000</td>\n",
       "      <td>8.000000</td>\n",
       "      <td>5.000000</td>\n",
       "      <td>7400.00000</td>\n",
       "      <td>700.000000</td>\n",
       "      <td>7.000000</td>\n",
       "      <td>725000.000000</td>\n",
       "    </tr>\n",
       "  </tbody>\n",
       "</table>\n",
       "</div>\n",
       "      <button class=\"colab-df-convert\" onclick=\"convertToInteractive('df-55478345-2b4a-43be-b212-0488677c59c9')\"\n",
       "              title=\"Convert this dataframe to an interactive table.\"\n",
       "              style=\"display:none;\">\n",
       "        \n",
       "  <svg xmlns=\"http://www.w3.org/2000/svg\" height=\"24px\"viewBox=\"0 0 24 24\"\n",
       "       width=\"24px\">\n",
       "    <path d=\"M0 0h24v24H0V0z\" fill=\"none\"/>\n",
       "    <path d=\"M18.56 5.44l.94 2.06.94-2.06 2.06-.94-2.06-.94-.94-2.06-.94 2.06-2.06.94zm-11 1L8.5 8.5l.94-2.06 2.06-.94-2.06-.94L8.5 2.5l-.94 2.06-2.06.94zm10 10l.94 2.06.94-2.06 2.06-.94-2.06-.94-.94-2.06-.94 2.06-2.06.94z\"/><path d=\"M17.41 7.96l-1.37-1.37c-.4-.4-.92-.59-1.43-.59-.52 0-1.04.2-1.43.59L10.3 9.45l-7.72 7.72c-.78.78-.78 2.05 0 2.83L4 21.41c.39.39.9.59 1.41.59.51 0 1.02-.2 1.41-.59l7.78-7.78 2.81-2.81c.8-.78.8-2.07 0-2.86zM5.41 20L4 18.59l7.72-7.72 1.47 1.35L5.41 20z\"/>\n",
       "  </svg>\n",
       "      </button>\n",
       "      \n",
       "  <style>\n",
       "    .colab-df-container {\n",
       "      display:flex;\n",
       "      flex-wrap:wrap;\n",
       "      gap: 12px;\n",
       "    }\n",
       "\n",
       "    .colab-df-convert {\n",
       "      background-color: #E8F0FE;\n",
       "      border: none;\n",
       "      border-radius: 50%;\n",
       "      cursor: pointer;\n",
       "      display: none;\n",
       "      fill: #1967D2;\n",
       "      height: 32px;\n",
       "      padding: 0 0 0 0;\n",
       "      width: 32px;\n",
       "    }\n",
       "\n",
       "    .colab-df-convert:hover {\n",
       "      background-color: #E2EBFA;\n",
       "      box-shadow: 0px 1px 2px rgba(60, 64, 67, 0.3), 0px 1px 3px 1px rgba(60, 64, 67, 0.15);\n",
       "      fill: #174EA6;\n",
       "    }\n",
       "\n",
       "    [theme=dark] .colab-df-convert {\n",
       "      background-color: #3B4455;\n",
       "      fill: #D2E3FC;\n",
       "    }\n",
       "\n",
       "    [theme=dark] .colab-df-convert:hover {\n",
       "      background-color: #434B5C;\n",
       "      box-shadow: 0px 1px 3px 1px rgba(0, 0, 0, 0.15);\n",
       "      filter: drop-shadow(0px 1px 2px rgba(0, 0, 0, 0.3));\n",
       "      fill: #FFFFFF;\n",
       "    }\n",
       "  </style>\n",
       "\n",
       "      <script>\n",
       "        const buttonEl =\n",
       "          document.querySelector('#df-55478345-2b4a-43be-b212-0488677c59c9 button.colab-df-convert');\n",
       "        buttonEl.style.display =\n",
       "          google.colab.kernel.accessAllowed ? 'block' : 'none';\n",
       "\n",
       "        async function convertToInteractive(key) {\n",
       "          const element = document.querySelector('#df-55478345-2b4a-43be-b212-0488677c59c9');\n",
       "          const dataTable =\n",
       "            await google.colab.kernel.invokeFunction('convertToInteractive',\n",
       "                                                     [key], {});\n",
       "          if (!dataTable) return;\n",
       "\n",
       "          const docLinkHtml = 'Like what you see? Visit the ' +\n",
       "            '<a target=\"_blank\" href=https://colab.research.google.com/notebooks/data_table.ipynb>data table notebook</a>'\n",
       "            + ' to learn more about interactive tables.';\n",
       "          element.innerHTML = '';\n",
       "          dataTable['output_type'] = 'display_data';\n",
       "          await google.colab.output.renderOutput(dataTable, element);\n",
       "          const docLink = document.createElement('div');\n",
       "          docLink.innerHTML = docLinkHtml;\n",
       "          element.appendChild(docLink);\n",
       "        }\n",
       "      </script>\n",
       "    </div>\n",
       "  </div>\n",
       "  "
      ],
      "text/plain": [
       "                Age  DependentChildren  DependentsOther  WeeklyWages  \\\n",
       "count  36000.000000       36000.000000     36000.000000  36000.00000   \n",
       "mean      33.856556           0.120000         0.009611    416.37745   \n",
       "std       12.124416           0.522437         0.108357    242.49109   \n",
       "min       13.000000           0.000000         0.000000      1.00000   \n",
       "25%       23.000000           0.000000         0.000000    200.00000   \n",
       "50%       32.000000           0.000000         0.000000    395.18500   \n",
       "75%       43.000000           0.000000         0.000000    500.00000   \n",
       "max       80.000000           8.000000         5.000000   7400.00000   \n",
       "\n",
       "       HoursWorkedPerWeek  DaysWorkedPerWeek  InitialIncurredCalimsCost  \n",
       "count        36000.000000       36000.000000               36000.000000  \n",
       "mean            37.758841           4.912417                7679.306889  \n",
       "std             11.951296           0.540451               17501.991600  \n",
       "min              0.000000           1.000000                   1.000000  \n",
       "25%             38.000000           5.000000                 650.000000  \n",
       "50%             38.000000           5.000000                2000.000000  \n",
       "75%             40.000000           5.000000                9500.000000  \n",
       "max            700.000000           7.000000              725000.000000  "
      ]
     },
     "execution_count": 91,
     "metadata": {},
     "output_type": "execute_result"
    }
   ],
   "source": [
    " #checking the description of test data\n",
    "Test_Dataset.describe()"
   ]
  },
  {
   "cell_type": "code",
   "execution_count": null,
   "id": "926c1eb6",
   "metadata": {
    "colab": {
     "base_uri": "https://localhost:8080/",
     "height": 531
    },
    "id": "926c1eb6",
    "outputId": "d2c98bac-b206-4926-ad62-ec7520161029"
   },
   "outputs": [
    {
     "data": {
      "text/html": [
       "\n",
       "  <div id=\"df-3d2dbe1d-996c-4756-9f34-ca716308d5ee\">\n",
       "    <div class=\"colab-df-container\">\n",
       "      <div>\n",
       "<style scoped>\n",
       "    .dataframe tbody tr th:only-of-type {\n",
       "        vertical-align: middle;\n",
       "    }\n",
       "\n",
       "    .dataframe tbody tr th {\n",
       "        vertical-align: top;\n",
       "    }\n",
       "\n",
       "    .dataframe thead th {\n",
       "        text-align: right;\n",
       "    }\n",
       "</style>\n",
       "<table border=\"1\" class=\"dataframe\">\n",
       "  <thead>\n",
       "    <tr style=\"text-align: right;\">\n",
       "      <th></th>\n",
       "      <th>ClaimNumber</th>\n",
       "      <th>DateTimeOfAccident</th>\n",
       "      <th>DateReported</th>\n",
       "      <th>Age</th>\n",
       "      <th>Gender</th>\n",
       "      <th>MaritalStatus</th>\n",
       "      <th>DependentChildren</th>\n",
       "      <th>DependentsOther</th>\n",
       "      <th>WeeklyWages</th>\n",
       "      <th>PartTimeFullTime</th>\n",
       "      <th>HoursWorkedPerWeek</th>\n",
       "      <th>DaysWorkedPerWeek</th>\n",
       "      <th>ClaimDescription</th>\n",
       "      <th>InitialIncurredCalimsCost</th>\n",
       "    </tr>\n",
       "  </thead>\n",
       "  <tbody>\n",
       "    <tr>\n",
       "      <th>0</th>\n",
       "      <td>WC8145235</td>\n",
       "      <td>2002-04-02T10:00:00Z</td>\n",
       "      <td>2002-05-07T00:00:00Z</td>\n",
       "      <td>26</td>\n",
       "      <td>M</td>\n",
       "      <td>S</td>\n",
       "      <td>1</td>\n",
       "      <td>0</td>\n",
       "      <td>600.18</td>\n",
       "      <td>F</td>\n",
       "      <td>40.0</td>\n",
       "      <td>5</td>\n",
       "      <td>CAUGHT RIGHT HAND WITH HAMMER BURN TO RIGHT HAND</td>\n",
       "      <td>5300</td>\n",
       "    </tr>\n",
       "    <tr>\n",
       "      <th>1</th>\n",
       "      <td>WC2005111</td>\n",
       "      <td>1988-04-06T16:00:00Z</td>\n",
       "      <td>1988-04-15T00:00:00Z</td>\n",
       "      <td>31</td>\n",
       "      <td>M</td>\n",
       "      <td>M</td>\n",
       "      <td>0</td>\n",
       "      <td>0</td>\n",
       "      <td>311.54</td>\n",
       "      <td>F</td>\n",
       "      <td>35.0</td>\n",
       "      <td>5</td>\n",
       "      <td>SPRAINED RIGHT ANKLE FRACTURE RIGHT ELBOW</td>\n",
       "      <td>2000</td>\n",
       "    </tr>\n",
       "    <tr>\n",
       "      <th>2</th>\n",
       "      <td>WC6899143</td>\n",
       "      <td>1999-03-08T09:00:00Z</td>\n",
       "      <td>1999-04-04T00:00:00Z</td>\n",
       "      <td>57</td>\n",
       "      <td>M</td>\n",
       "      <td>M</td>\n",
       "      <td>0</td>\n",
       "      <td>0</td>\n",
       "      <td>1000.00</td>\n",
       "      <td>F</td>\n",
       "      <td>38.0</td>\n",
       "      <td>5</td>\n",
       "      <td>STRUCK HAMMER CRUSH INJURY FINGERS HAND</td>\n",
       "      <td>20000</td>\n",
       "    </tr>\n",
       "    <tr>\n",
       "      <th>3</th>\n",
       "      <td>WC5502023</td>\n",
       "      <td>1996-07-26T09:00:00Z</td>\n",
       "      <td>1996-09-04T00:00:00Z</td>\n",
       "      <td>33</td>\n",
       "      <td>M</td>\n",
       "      <td>M</td>\n",
       "      <td>0</td>\n",
       "      <td>0</td>\n",
       "      <td>200.00</td>\n",
       "      <td>F</td>\n",
       "      <td>38.0</td>\n",
       "      <td>5</td>\n",
       "      <td>STRUCK AGAINST AIR HOSE STRUCK GLASS LACERATIO...</td>\n",
       "      <td>350</td>\n",
       "    </tr>\n",
       "    <tr>\n",
       "      <th>4</th>\n",
       "      <td>WC4785156</td>\n",
       "      <td>1994-04-13T14:00:00Z</td>\n",
       "      <td>1994-07-07T00:00:00Z</td>\n",
       "      <td>32</td>\n",
       "      <td>F</td>\n",
       "      <td>M</td>\n",
       "      <td>0</td>\n",
       "      <td>0</td>\n",
       "      <td>359.60</td>\n",
       "      <td>F</td>\n",
       "      <td>40.0</td>\n",
       "      <td>5</td>\n",
       "      <td>FOREIGN BODY IN RIGHT FOOT BRUISED RIGHT BIG TOE</td>\n",
       "      <td>3000</td>\n",
       "    </tr>\n",
       "  </tbody>\n",
       "</table>\n",
       "</div>\n",
       "      <button class=\"colab-df-convert\" onclick=\"convertToInteractive('df-3d2dbe1d-996c-4756-9f34-ca716308d5ee')\"\n",
       "              title=\"Convert this dataframe to an interactive table.\"\n",
       "              style=\"display:none;\">\n",
       "        \n",
       "  <svg xmlns=\"http://www.w3.org/2000/svg\" height=\"24px\"viewBox=\"0 0 24 24\"\n",
       "       width=\"24px\">\n",
       "    <path d=\"M0 0h24v24H0V0z\" fill=\"none\"/>\n",
       "    <path d=\"M18.56 5.44l.94 2.06.94-2.06 2.06-.94-2.06-.94-.94-2.06-.94 2.06-2.06.94zm-11 1L8.5 8.5l.94-2.06 2.06-.94-2.06-.94L8.5 2.5l-.94 2.06-2.06.94zm10 10l.94 2.06.94-2.06 2.06-.94-2.06-.94-.94-2.06-.94 2.06-2.06.94z\"/><path d=\"M17.41 7.96l-1.37-1.37c-.4-.4-.92-.59-1.43-.59-.52 0-1.04.2-1.43.59L10.3 9.45l-7.72 7.72c-.78.78-.78 2.05 0 2.83L4 21.41c.39.39.9.59 1.41.59.51 0 1.02-.2 1.41-.59l7.78-7.78 2.81-2.81c.8-.78.8-2.07 0-2.86zM5.41 20L4 18.59l7.72-7.72 1.47 1.35L5.41 20z\"/>\n",
       "  </svg>\n",
       "      </button>\n",
       "      \n",
       "  <style>\n",
       "    .colab-df-container {\n",
       "      display:flex;\n",
       "      flex-wrap:wrap;\n",
       "      gap: 12px;\n",
       "    }\n",
       "\n",
       "    .colab-df-convert {\n",
       "      background-color: #E8F0FE;\n",
       "      border: none;\n",
       "      border-radius: 50%;\n",
       "      cursor: pointer;\n",
       "      display: none;\n",
       "      fill: #1967D2;\n",
       "      height: 32px;\n",
       "      padding: 0 0 0 0;\n",
       "      width: 32px;\n",
       "    }\n",
       "\n",
       "    .colab-df-convert:hover {\n",
       "      background-color: #E2EBFA;\n",
       "      box-shadow: 0px 1px 2px rgba(60, 64, 67, 0.3), 0px 1px 3px 1px rgba(60, 64, 67, 0.15);\n",
       "      fill: #174EA6;\n",
       "    }\n",
       "\n",
       "    [theme=dark] .colab-df-convert {\n",
       "      background-color: #3B4455;\n",
       "      fill: #D2E3FC;\n",
       "    }\n",
       "\n",
       "    [theme=dark] .colab-df-convert:hover {\n",
       "      background-color: #434B5C;\n",
       "      box-shadow: 0px 1px 3px 1px rgba(0, 0, 0, 0.15);\n",
       "      filter: drop-shadow(0px 1px 2px rgba(0, 0, 0, 0.3));\n",
       "      fill: #FFFFFF;\n",
       "    }\n",
       "  </style>\n",
       "\n",
       "      <script>\n",
       "        const buttonEl =\n",
       "          document.querySelector('#df-3d2dbe1d-996c-4756-9f34-ca716308d5ee button.colab-df-convert');\n",
       "        buttonEl.style.display =\n",
       "          google.colab.kernel.accessAllowed ? 'block' : 'none';\n",
       "\n",
       "        async function convertToInteractive(key) {\n",
       "          const element = document.querySelector('#df-3d2dbe1d-996c-4756-9f34-ca716308d5ee');\n",
       "          const dataTable =\n",
       "            await google.colab.kernel.invokeFunction('convertToInteractive',\n",
       "                                                     [key], {});\n",
       "          if (!dataTable) return;\n",
       "\n",
       "          const docLinkHtml = 'Like what you see? Visit the ' +\n",
       "            '<a target=\"_blank\" href=https://colab.research.google.com/notebooks/data_table.ipynb>data table notebook</a>'\n",
       "            + ' to learn more about interactive tables.';\n",
       "          element.innerHTML = '';\n",
       "          dataTable['output_type'] = 'display_data';\n",
       "          await google.colab.output.renderOutput(dataTable, element);\n",
       "          const docLink = document.createElement('div');\n",
       "          docLink.innerHTML = docLinkHtml;\n",
       "          element.appendChild(docLink);\n",
       "        }\n",
       "      </script>\n",
       "    </div>\n",
       "  </div>\n",
       "  "
      ],
      "text/plain": [
       "  ClaimNumber    DateTimeOfAccident          DateReported  Age Gender  \\\n",
       "0   WC8145235  2002-04-02T10:00:00Z  2002-05-07T00:00:00Z   26      M   \n",
       "1   WC2005111  1988-04-06T16:00:00Z  1988-04-15T00:00:00Z   31      M   \n",
       "2   WC6899143  1999-03-08T09:00:00Z  1999-04-04T00:00:00Z   57      M   \n",
       "3   WC5502023  1996-07-26T09:00:00Z  1996-09-04T00:00:00Z   33      M   \n",
       "4   WC4785156  1994-04-13T14:00:00Z  1994-07-07T00:00:00Z   32      F   \n",
       "\n",
       "  MaritalStatus  DependentChildren  DependentsOther  WeeklyWages  \\\n",
       "0             S                  1                0       600.18   \n",
       "1             M                  0                0       311.54   \n",
       "2             M                  0                0      1000.00   \n",
       "3             M                  0                0       200.00   \n",
       "4             M                  0                0       359.60   \n",
       "\n",
       "  PartTimeFullTime  HoursWorkedPerWeek  DaysWorkedPerWeek  \\\n",
       "0                F                40.0                  5   \n",
       "1                F                35.0                  5   \n",
       "2                F                38.0                  5   \n",
       "3                F                38.0                  5   \n",
       "4                F                40.0                  5   \n",
       "\n",
       "                                    ClaimDescription  \\\n",
       "0   CAUGHT RIGHT HAND WITH HAMMER BURN TO RIGHT HAND   \n",
       "1          SPRAINED RIGHT ANKLE FRACTURE RIGHT ELBOW   \n",
       "2            STRUCK HAMMER CRUSH INJURY FINGERS HAND   \n",
       "3  STRUCK AGAINST AIR HOSE STRUCK GLASS LACERATIO...   \n",
       "4   FOREIGN BODY IN RIGHT FOOT BRUISED RIGHT BIG TOE   \n",
       "\n",
       "   InitialIncurredCalimsCost  \n",
       "0                       5300  \n",
       "1                       2000  \n",
       "2                      20000  \n",
       "3                        350  \n",
       "4                       3000  "
      ]
     },
     "execution_count": 92,
     "metadata": {},
     "output_type": "execute_result"
    }
   ],
   "source": [
    "#checking the test dataframe \n",
    "Test_Dataset.head(5)"
   ]
  },
  {
   "cell_type": "code",
   "execution_count": null,
   "id": "9e2c7154",
   "metadata": {
    "colab": {
     "base_uri": "https://localhost:8080/"
    },
    "id": "9e2c7154",
    "outputId": "0c31de27-dd1c-4774-df6f-b64e213ca529"
   },
   "outputs": [
    {
     "data": {
      "text/plain": [
       "(36000, 14)"
      ]
     },
     "execution_count": 93,
     "metadata": {},
     "output_type": "execute_result"
    }
   ],
   "source": [
    "#Checking the shape of test data \n",
    "Test_Dataset.shape"
   ]
  },
  {
   "cell_type": "code",
   "execution_count": null,
   "id": "89dfba88",
   "metadata": {
    "colab": {
     "base_uri": "https://localhost:8080/"
    },
    "id": "89dfba88",
    "outputId": "d7d32bfb-7de9-41c8-b7ae-9b744a3b8ad8"
   },
   "outputs": [
    {
     "data": {
      "text/plain": [
       "0"
      ]
     },
     "execution_count": 94,
     "metadata": {},
     "output_type": "execute_result"
    }
   ],
   "source": [
    "#Checking for duplicate values\n",
    "Test_Dataset.duplicated().sum() "
   ]
  },
  {
   "cell_type": "markdown",
   "id": "42e50eb7",
   "metadata": {
    "id": "42e50eb7"
   },
   "source": [
    "##### There are no duplicate values"
   ]
  },
  {
   "cell_type": "code",
   "execution_count": null,
   "id": "c31fe5af",
   "metadata": {
    "colab": {
     "base_uri": "https://localhost:8080/"
    },
    "id": "c31fe5af",
    "outputId": "ca497ca9-819d-4721-a7ee-424e29a0f940"
   },
   "outputs": [
    {
     "data": {
      "text/plain": [
       "ClaimNumber                   0\n",
       "DateTimeOfAccident            0\n",
       "DateReported                  0\n",
       "Age                           0\n",
       "Gender                        0\n",
       "MaritalStatus                18\n",
       "DependentChildren             0\n",
       "DependentsOther               0\n",
       "WeeklyWages                   0\n",
       "PartTimeFullTime              0\n",
       "HoursWorkedPerWeek            0\n",
       "DaysWorkedPerWeek             0\n",
       "ClaimDescription              0\n",
       "InitialIncurredCalimsCost     0\n",
       "dtype: int64"
      ]
     },
     "execution_count": 95,
     "metadata": {},
     "output_type": "execute_result"
    }
   ],
   "source": [
    "#Checking for the null values\n",
    "Test_Dataset.isnull().sum()"
   ]
  },
  {
   "cell_type": "code",
   "execution_count": null,
   "id": "8c260e0d",
   "metadata": {
    "id": "8c260e0d"
   },
   "outputs": [],
   "source": [
    "#Missing Value Treatment using mode imputation\n",
    "Test_Dataset['MaritalStatus']=Test_Dataset['MaritalStatus'].fillna(Test_Dataset['MaritalStatus'].mode()[0])"
   ]
  },
  {
   "cell_type": "code",
   "execution_count": null,
   "id": "9ade1574",
   "metadata": {
    "colab": {
     "base_uri": "https://localhost:8080/"
    },
    "id": "9ade1574",
    "outputId": "1acdb22e-be77-401d-fbb2-ec4750e3a735"
   },
   "outputs": [
    {
     "data": {
      "text/plain": [
       "ClaimNumber                  0\n",
       "DateTimeOfAccident           0\n",
       "DateReported                 0\n",
       "Age                          0\n",
       "Gender                       0\n",
       "MaritalStatus                0\n",
       "DependentChildren            0\n",
       "DependentsOther              0\n",
       "WeeklyWages                  0\n",
       "PartTimeFullTime             0\n",
       "HoursWorkedPerWeek           0\n",
       "DaysWorkedPerWeek            0\n",
       "ClaimDescription             0\n",
       "InitialIncurredCalimsCost    0\n",
       "dtype: int64"
      ]
     },
     "execution_count": 97,
     "metadata": {},
     "output_type": "execute_result"
    }
   ],
   "source": [
    "#To verify if there are more missing values in the dataset\n",
    "Test_Dataset.isnull().sum()"
   ]
  },
  {
   "cell_type": "markdown",
   "id": "a262b3a6",
   "metadata": {
    "id": "a262b3a6"
   },
   "source": [
    "##### There are no missing values."
   ]
  },
  {
   "cell_type": "markdown",
   "id": "f880ed4f",
   "metadata": {
    "id": "f880ed4f"
   },
   "source": [
    "### Data Transformation\n",
    "\n",
    "##### Data Binning"
   ]
  },
  {
   "cell_type": "code",
   "execution_count": null,
   "id": "6282d9d7",
   "metadata": {
    "colab": {
     "base_uri": "https://localhost:8080/"
    },
    "id": "6282d9d7",
    "outputId": "8ddd7513-6f4e-4c00-9c51-68279ad5094b"
   },
   "outputs": [
    {
     "data": {
      "text/plain": [
       "0        Middle-Age\n",
       "1        Middle-Age\n",
       "2               Old\n",
       "3        Middle-Age\n",
       "4        Middle-Age\n",
       "            ...    \n",
       "35995           Old\n",
       "35996         Young\n",
       "35997    Middle-Age\n",
       "35998    Middle-Age\n",
       "35999           Old\n",
       "Name: Age_Bin, Length: 36000, dtype: category\n",
       "Categories (3, object): ['Young' < 'Middle-Age' < 'Old']"
      ]
     },
     "execution_count": 98,
     "metadata": {},
     "output_type": "execute_result"
    }
   ],
   "source": [
    "Test_Dataset['Age_Bin']=pd.cut(Test_Dataset['Age'],bins=[1,25,50,80] , labels=['Young','Middle-Age','Old'])\n",
    "Test_Dataset['Age_Bin']"
   ]
  },
  {
   "cell_type": "code",
   "execution_count": null,
   "id": "9e309cdc",
   "metadata": {
    "colab": {
     "base_uri": "https://localhost:8080/"
    },
    "id": "9e309cdc",
    "outputId": "572a0329-c0da-4213-8b11-88b89eda96f0"
   },
   "outputs": [
    {
     "data": {
      "text/plain": [
       "0        Low\n",
       "1        Low\n",
       "2        Low\n",
       "3        Low\n",
       "4        Low\n",
       "        ... \n",
       "35995    Low\n",
       "35996    Low\n",
       "35997    Low\n",
       "35998    Low\n",
       "35999    Low\n",
       "Name: WeeklyWages_Bin, Length: 36000, dtype: category\n",
       "Categories (5, object): ['Low' < 'Below Average' < 'Average Wage' < 'Above Average' < 'High']"
      ]
     },
     "execution_count": 99,
     "metadata": {},
     "output_type": "execute_result"
    }
   ],
   "source": [
    "Test_Dataset['WeeklyWages_Bin']=pd.cut(Test_Dataset['WeeklyWages'],bins=[0,1000,2000,4000,7000,8000] , labels=['Low','Below Average','Average Wage','Above Average','High'])\n",
    "Test_Dataset['WeeklyWages_Bin']"
   ]
  },
  {
   "cell_type": "code",
   "execution_count": null,
   "id": "d0431c19",
   "metadata": {
    "id": "d0431c19"
   },
   "outputs": [],
   "source": [
    "Test_Dataset_drop=Test_Dataset.drop(columns=['WeeklyWages', 'WeeklyWages_Bin','HoursWorkedPerWeek','DaysWorkedPerWeek','Age_Bin'])"
   ]
  },
  {
   "cell_type": "code",
   "execution_count": null,
   "id": "058fddf7",
   "metadata": {
    "colab": {
     "base_uri": "https://localhost:8080/",
     "height": 531
    },
    "id": "058fddf7",
    "outputId": "7e9f7b45-65bf-4b8f-f0cc-1a5d44fc64de"
   },
   "outputs": [
    {
     "data": {
      "text/html": [
       "\n",
       "  <div id=\"df-2aa120b8-0b3e-4282-929f-251804de18a7\">\n",
       "    <div class=\"colab-df-container\">\n",
       "      <div>\n",
       "<style scoped>\n",
       "    .dataframe tbody tr th:only-of-type {\n",
       "        vertical-align: middle;\n",
       "    }\n",
       "\n",
       "    .dataframe tbody tr th {\n",
       "        vertical-align: top;\n",
       "    }\n",
       "\n",
       "    .dataframe thead th {\n",
       "        text-align: right;\n",
       "    }\n",
       "</style>\n",
       "<table border=\"1\" class=\"dataframe\">\n",
       "  <thead>\n",
       "    <tr style=\"text-align: right;\">\n",
       "      <th></th>\n",
       "      <th>ClaimNumber</th>\n",
       "      <th>DateTimeOfAccident</th>\n",
       "      <th>DateReported</th>\n",
       "      <th>Age</th>\n",
       "      <th>Gender</th>\n",
       "      <th>MaritalStatus</th>\n",
       "      <th>DependentChildren</th>\n",
       "      <th>DependentsOther</th>\n",
       "      <th>PartTimeFullTime</th>\n",
       "      <th>ClaimDescription</th>\n",
       "      <th>InitialIncurredCalimsCost</th>\n",
       "    </tr>\n",
       "  </thead>\n",
       "  <tbody>\n",
       "    <tr>\n",
       "      <th>0</th>\n",
       "      <td>WC8145235</td>\n",
       "      <td>2002-04-02T10:00:00Z</td>\n",
       "      <td>2002-05-07T00:00:00Z</td>\n",
       "      <td>26</td>\n",
       "      <td>M</td>\n",
       "      <td>S</td>\n",
       "      <td>1</td>\n",
       "      <td>0</td>\n",
       "      <td>F</td>\n",
       "      <td>CAUGHT RIGHT HAND WITH HAMMER BURN TO RIGHT HAND</td>\n",
       "      <td>5300</td>\n",
       "    </tr>\n",
       "    <tr>\n",
       "      <th>1</th>\n",
       "      <td>WC2005111</td>\n",
       "      <td>1988-04-06T16:00:00Z</td>\n",
       "      <td>1988-04-15T00:00:00Z</td>\n",
       "      <td>31</td>\n",
       "      <td>M</td>\n",
       "      <td>M</td>\n",
       "      <td>0</td>\n",
       "      <td>0</td>\n",
       "      <td>F</td>\n",
       "      <td>SPRAINED RIGHT ANKLE FRACTURE RIGHT ELBOW</td>\n",
       "      <td>2000</td>\n",
       "    </tr>\n",
       "    <tr>\n",
       "      <th>2</th>\n",
       "      <td>WC6899143</td>\n",
       "      <td>1999-03-08T09:00:00Z</td>\n",
       "      <td>1999-04-04T00:00:00Z</td>\n",
       "      <td>57</td>\n",
       "      <td>M</td>\n",
       "      <td>M</td>\n",
       "      <td>0</td>\n",
       "      <td>0</td>\n",
       "      <td>F</td>\n",
       "      <td>STRUCK HAMMER CRUSH INJURY FINGERS HAND</td>\n",
       "      <td>20000</td>\n",
       "    </tr>\n",
       "    <tr>\n",
       "      <th>3</th>\n",
       "      <td>WC5502023</td>\n",
       "      <td>1996-07-26T09:00:00Z</td>\n",
       "      <td>1996-09-04T00:00:00Z</td>\n",
       "      <td>33</td>\n",
       "      <td>M</td>\n",
       "      <td>M</td>\n",
       "      <td>0</td>\n",
       "      <td>0</td>\n",
       "      <td>F</td>\n",
       "      <td>STRUCK AGAINST AIR HOSE STRUCK GLASS LACERATIO...</td>\n",
       "      <td>350</td>\n",
       "    </tr>\n",
       "    <tr>\n",
       "      <th>4</th>\n",
       "      <td>WC4785156</td>\n",
       "      <td>1994-04-13T14:00:00Z</td>\n",
       "      <td>1994-07-07T00:00:00Z</td>\n",
       "      <td>32</td>\n",
       "      <td>F</td>\n",
       "      <td>M</td>\n",
       "      <td>0</td>\n",
       "      <td>0</td>\n",
       "      <td>F</td>\n",
       "      <td>FOREIGN BODY IN RIGHT FOOT BRUISED RIGHT BIG TOE</td>\n",
       "      <td>3000</td>\n",
       "    </tr>\n",
       "  </tbody>\n",
       "</table>\n",
       "</div>\n",
       "      <button class=\"colab-df-convert\" onclick=\"convertToInteractive('df-2aa120b8-0b3e-4282-929f-251804de18a7')\"\n",
       "              title=\"Convert this dataframe to an interactive table.\"\n",
       "              style=\"display:none;\">\n",
       "        \n",
       "  <svg xmlns=\"http://www.w3.org/2000/svg\" height=\"24px\"viewBox=\"0 0 24 24\"\n",
       "       width=\"24px\">\n",
       "    <path d=\"M0 0h24v24H0V0z\" fill=\"none\"/>\n",
       "    <path d=\"M18.56 5.44l.94 2.06.94-2.06 2.06-.94-2.06-.94-.94-2.06-.94 2.06-2.06.94zm-11 1L8.5 8.5l.94-2.06 2.06-.94-2.06-.94L8.5 2.5l-.94 2.06-2.06.94zm10 10l.94 2.06.94-2.06 2.06-.94-2.06-.94-.94-2.06-.94 2.06-2.06.94z\"/><path d=\"M17.41 7.96l-1.37-1.37c-.4-.4-.92-.59-1.43-.59-.52 0-1.04.2-1.43.59L10.3 9.45l-7.72 7.72c-.78.78-.78 2.05 0 2.83L4 21.41c.39.39.9.59 1.41.59.51 0 1.02-.2 1.41-.59l7.78-7.78 2.81-2.81c.8-.78.8-2.07 0-2.86zM5.41 20L4 18.59l7.72-7.72 1.47 1.35L5.41 20z\"/>\n",
       "  </svg>\n",
       "      </button>\n",
       "      \n",
       "  <style>\n",
       "    .colab-df-container {\n",
       "      display:flex;\n",
       "      flex-wrap:wrap;\n",
       "      gap: 12px;\n",
       "    }\n",
       "\n",
       "    .colab-df-convert {\n",
       "      background-color: #E8F0FE;\n",
       "      border: none;\n",
       "      border-radius: 50%;\n",
       "      cursor: pointer;\n",
       "      display: none;\n",
       "      fill: #1967D2;\n",
       "      height: 32px;\n",
       "      padding: 0 0 0 0;\n",
       "      width: 32px;\n",
       "    }\n",
       "\n",
       "    .colab-df-convert:hover {\n",
       "      background-color: #E2EBFA;\n",
       "      box-shadow: 0px 1px 2px rgba(60, 64, 67, 0.3), 0px 1px 3px 1px rgba(60, 64, 67, 0.15);\n",
       "      fill: #174EA6;\n",
       "    }\n",
       "\n",
       "    [theme=dark] .colab-df-convert {\n",
       "      background-color: #3B4455;\n",
       "      fill: #D2E3FC;\n",
       "    }\n",
       "\n",
       "    [theme=dark] .colab-df-convert:hover {\n",
       "      background-color: #434B5C;\n",
       "      box-shadow: 0px 1px 3px 1px rgba(0, 0, 0, 0.15);\n",
       "      filter: drop-shadow(0px 1px 2px rgba(0, 0, 0, 0.3));\n",
       "      fill: #FFFFFF;\n",
       "    }\n",
       "  </style>\n",
       "\n",
       "      <script>\n",
       "        const buttonEl =\n",
       "          document.querySelector('#df-2aa120b8-0b3e-4282-929f-251804de18a7 button.colab-df-convert');\n",
       "        buttonEl.style.display =\n",
       "          google.colab.kernel.accessAllowed ? 'block' : 'none';\n",
       "\n",
       "        async function convertToInteractive(key) {\n",
       "          const element = document.querySelector('#df-2aa120b8-0b3e-4282-929f-251804de18a7');\n",
       "          const dataTable =\n",
       "            await google.colab.kernel.invokeFunction('convertToInteractive',\n",
       "                                                     [key], {});\n",
       "          if (!dataTable) return;\n",
       "\n",
       "          const docLinkHtml = 'Like what you see? Visit the ' +\n",
       "            '<a target=\"_blank\" href=https://colab.research.google.com/notebooks/data_table.ipynb>data table notebook</a>'\n",
       "            + ' to learn more about interactive tables.';\n",
       "          element.innerHTML = '';\n",
       "          dataTable['output_type'] = 'display_data';\n",
       "          await google.colab.output.renderOutput(dataTable, element);\n",
       "          const docLink = document.createElement('div');\n",
       "          docLink.innerHTML = docLinkHtml;\n",
       "          element.appendChild(docLink);\n",
       "        }\n",
       "      </script>\n",
       "    </div>\n",
       "  </div>\n",
       "  "
      ],
      "text/plain": [
       "  ClaimNumber    DateTimeOfAccident          DateReported  Age Gender  \\\n",
       "0   WC8145235  2002-04-02T10:00:00Z  2002-05-07T00:00:00Z   26      M   \n",
       "1   WC2005111  1988-04-06T16:00:00Z  1988-04-15T00:00:00Z   31      M   \n",
       "2   WC6899143  1999-03-08T09:00:00Z  1999-04-04T00:00:00Z   57      M   \n",
       "3   WC5502023  1996-07-26T09:00:00Z  1996-09-04T00:00:00Z   33      M   \n",
       "4   WC4785156  1994-04-13T14:00:00Z  1994-07-07T00:00:00Z   32      F   \n",
       "\n",
       "  MaritalStatus  DependentChildren  DependentsOther PartTimeFullTime  \\\n",
       "0             S                  1                0                F   \n",
       "1             M                  0                0                F   \n",
       "2             M                  0                0                F   \n",
       "3             M                  0                0                F   \n",
       "4             M                  0                0                F   \n",
       "\n",
       "                                    ClaimDescription  \\\n",
       "0   CAUGHT RIGHT HAND WITH HAMMER BURN TO RIGHT HAND   \n",
       "1          SPRAINED RIGHT ANKLE FRACTURE RIGHT ELBOW   \n",
       "2            STRUCK HAMMER CRUSH INJURY FINGERS HAND   \n",
       "3  STRUCK AGAINST AIR HOSE STRUCK GLASS LACERATIO...   \n",
       "4   FOREIGN BODY IN RIGHT FOOT BRUISED RIGHT BIG TOE   \n",
       "\n",
       "   InitialIncurredCalimsCost  \n",
       "0                       5300  \n",
       "1                       2000  \n",
       "2                      20000  \n",
       "3                        350  \n",
       "4                       3000  "
      ]
     },
     "execution_count": 101,
     "metadata": {},
     "output_type": "execute_result"
    }
   ],
   "source": [
    "Test_Dataset_drop.head(5)"
   ]
  },
  {
   "cell_type": "code",
   "execution_count": null,
   "id": "f6588466",
   "metadata": {
    "colab": {
     "base_uri": "https://localhost:8080/",
     "height": 531
    },
    "id": "f6588466",
    "outputId": "a8d92829-e97b-471e-9ba2-d8375713653f"
   },
   "outputs": [
    {
     "data": {
      "text/html": [
       "\n",
       "  <div id=\"df-70531023-164b-4aba-a57a-bed7bb1fd1e3\">\n",
       "    <div class=\"colab-df-container\">\n",
       "      <div>\n",
       "<style scoped>\n",
       "    .dataframe tbody tr th:only-of-type {\n",
       "        vertical-align: middle;\n",
       "    }\n",
       "\n",
       "    .dataframe tbody tr th {\n",
       "        vertical-align: top;\n",
       "    }\n",
       "\n",
       "    .dataframe thead th {\n",
       "        text-align: right;\n",
       "    }\n",
       "</style>\n",
       "<table border=\"1\" class=\"dataframe\">\n",
       "  <thead>\n",
       "    <tr style=\"text-align: right;\">\n",
       "      <th></th>\n",
       "      <th>ClaimNumber</th>\n",
       "      <th>DateTimeOfAccident</th>\n",
       "      <th>DateReported</th>\n",
       "      <th>Age</th>\n",
       "      <th>Gender</th>\n",
       "      <th>MaritalStatus</th>\n",
       "      <th>DependentChildren</th>\n",
       "      <th>DependentsOther</th>\n",
       "      <th>PartTimeFullTime</th>\n",
       "      <th>ClaimDescription</th>\n",
       "      <th>InitialIncurredCalimsCost</th>\n",
       "    </tr>\n",
       "  </thead>\n",
       "  <tbody>\n",
       "    <tr>\n",
       "      <th>0</th>\n",
       "      <td>WC8145235</td>\n",
       "      <td>2002-04-02T10:00:00Z</td>\n",
       "      <td>2002-05-07T00:00:00Z</td>\n",
       "      <td>26</td>\n",
       "      <td>M</td>\n",
       "      <td>S</td>\n",
       "      <td>1</td>\n",
       "      <td>0</td>\n",
       "      <td>F</td>\n",
       "      <td>CAUGHT RIGHT HAND WITH HAMMER BURN TO RIGHT HAND</td>\n",
       "      <td>5300</td>\n",
       "    </tr>\n",
       "    <tr>\n",
       "      <th>1</th>\n",
       "      <td>WC2005111</td>\n",
       "      <td>1988-04-06T16:00:00Z</td>\n",
       "      <td>1988-04-15T00:00:00Z</td>\n",
       "      <td>31</td>\n",
       "      <td>M</td>\n",
       "      <td>M</td>\n",
       "      <td>0</td>\n",
       "      <td>0</td>\n",
       "      <td>F</td>\n",
       "      <td>SPRAINED RIGHT ANKLE FRACTURE RIGHT ELBOW</td>\n",
       "      <td>2000</td>\n",
       "    </tr>\n",
       "    <tr>\n",
       "      <th>2</th>\n",
       "      <td>WC6899143</td>\n",
       "      <td>1999-03-08T09:00:00Z</td>\n",
       "      <td>1999-04-04T00:00:00Z</td>\n",
       "      <td>57</td>\n",
       "      <td>M</td>\n",
       "      <td>M</td>\n",
       "      <td>0</td>\n",
       "      <td>0</td>\n",
       "      <td>F</td>\n",
       "      <td>STRUCK HAMMER CRUSH INJURY FINGERS HAND</td>\n",
       "      <td>20000</td>\n",
       "    </tr>\n",
       "    <tr>\n",
       "      <th>3</th>\n",
       "      <td>WC5502023</td>\n",
       "      <td>1996-07-26T09:00:00Z</td>\n",
       "      <td>1996-09-04T00:00:00Z</td>\n",
       "      <td>33</td>\n",
       "      <td>M</td>\n",
       "      <td>M</td>\n",
       "      <td>0</td>\n",
       "      <td>0</td>\n",
       "      <td>F</td>\n",
       "      <td>STRUCK AGAINST AIR HOSE STRUCK GLASS LACERATIO...</td>\n",
       "      <td>350</td>\n",
       "    </tr>\n",
       "    <tr>\n",
       "      <th>4</th>\n",
       "      <td>WC4785156</td>\n",
       "      <td>1994-04-13T14:00:00Z</td>\n",
       "      <td>1994-07-07T00:00:00Z</td>\n",
       "      <td>32</td>\n",
       "      <td>F</td>\n",
       "      <td>M</td>\n",
       "      <td>0</td>\n",
       "      <td>0</td>\n",
       "      <td>F</td>\n",
       "      <td>FOREIGN BODY IN RIGHT FOOT BRUISED RIGHT BIG TOE</td>\n",
       "      <td>3000</td>\n",
       "    </tr>\n",
       "  </tbody>\n",
       "</table>\n",
       "</div>\n",
       "      <button class=\"colab-df-convert\" onclick=\"convertToInteractive('df-70531023-164b-4aba-a57a-bed7bb1fd1e3')\"\n",
       "              title=\"Convert this dataframe to an interactive table.\"\n",
       "              style=\"display:none;\">\n",
       "        \n",
       "  <svg xmlns=\"http://www.w3.org/2000/svg\" height=\"24px\"viewBox=\"0 0 24 24\"\n",
       "       width=\"24px\">\n",
       "    <path d=\"M0 0h24v24H0V0z\" fill=\"none\"/>\n",
       "    <path d=\"M18.56 5.44l.94 2.06.94-2.06 2.06-.94-2.06-.94-.94-2.06-.94 2.06-2.06.94zm-11 1L8.5 8.5l.94-2.06 2.06-.94-2.06-.94L8.5 2.5l-.94 2.06-2.06.94zm10 10l.94 2.06.94-2.06 2.06-.94-2.06-.94-.94-2.06-.94 2.06-2.06.94z\"/><path d=\"M17.41 7.96l-1.37-1.37c-.4-.4-.92-.59-1.43-.59-.52 0-1.04.2-1.43.59L10.3 9.45l-7.72 7.72c-.78.78-.78 2.05 0 2.83L4 21.41c.39.39.9.59 1.41.59.51 0 1.02-.2 1.41-.59l7.78-7.78 2.81-2.81c.8-.78.8-2.07 0-2.86zM5.41 20L4 18.59l7.72-7.72 1.47 1.35L5.41 20z\"/>\n",
       "  </svg>\n",
       "      </button>\n",
       "      \n",
       "  <style>\n",
       "    .colab-df-container {\n",
       "      display:flex;\n",
       "      flex-wrap:wrap;\n",
       "      gap: 12px;\n",
       "    }\n",
       "\n",
       "    .colab-df-convert {\n",
       "      background-color: #E8F0FE;\n",
       "      border: none;\n",
       "      border-radius: 50%;\n",
       "      cursor: pointer;\n",
       "      display: none;\n",
       "      fill: #1967D2;\n",
       "      height: 32px;\n",
       "      padding: 0 0 0 0;\n",
       "      width: 32px;\n",
       "    }\n",
       "\n",
       "    .colab-df-convert:hover {\n",
       "      background-color: #E2EBFA;\n",
       "      box-shadow: 0px 1px 2px rgba(60, 64, 67, 0.3), 0px 1px 3px 1px rgba(60, 64, 67, 0.15);\n",
       "      fill: #174EA6;\n",
       "    }\n",
       "\n",
       "    [theme=dark] .colab-df-convert {\n",
       "      background-color: #3B4455;\n",
       "      fill: #D2E3FC;\n",
       "    }\n",
       "\n",
       "    [theme=dark] .colab-df-convert:hover {\n",
       "      background-color: #434B5C;\n",
       "      box-shadow: 0px 1px 3px 1px rgba(0, 0, 0, 0.15);\n",
       "      filter: drop-shadow(0px 1px 2px rgba(0, 0, 0, 0.3));\n",
       "      fill: #FFFFFF;\n",
       "    }\n",
       "  </style>\n",
       "\n",
       "      <script>\n",
       "        const buttonEl =\n",
       "          document.querySelector('#df-70531023-164b-4aba-a57a-bed7bb1fd1e3 button.colab-df-convert');\n",
       "        buttonEl.style.display =\n",
       "          google.colab.kernel.accessAllowed ? 'block' : 'none';\n",
       "\n",
       "        async function convertToInteractive(key) {\n",
       "          const element = document.querySelector('#df-70531023-164b-4aba-a57a-bed7bb1fd1e3');\n",
       "          const dataTable =\n",
       "            await google.colab.kernel.invokeFunction('convertToInteractive',\n",
       "                                                     [key], {});\n",
       "          if (!dataTable) return;\n",
       "\n",
       "          const docLinkHtml = 'Like what you see? Visit the ' +\n",
       "            '<a target=\"_blank\" href=https://colab.research.google.com/notebooks/data_table.ipynb>data table notebook</a>'\n",
       "            + ' to learn more about interactive tables.';\n",
       "          element.innerHTML = '';\n",
       "          dataTable['output_type'] = 'display_data';\n",
       "          await google.colab.output.renderOutput(dataTable, element);\n",
       "          const docLink = document.createElement('div');\n",
       "          docLink.innerHTML = docLinkHtml;\n",
       "          element.appendChild(docLink);\n",
       "        }\n",
       "      </script>\n",
       "    </div>\n",
       "  </div>\n",
       "  "
      ],
      "text/plain": [
       "  ClaimNumber    DateTimeOfAccident          DateReported  Age Gender  \\\n",
       "0   WC8145235  2002-04-02T10:00:00Z  2002-05-07T00:00:00Z   26      M   \n",
       "1   WC2005111  1988-04-06T16:00:00Z  1988-04-15T00:00:00Z   31      M   \n",
       "2   WC6899143  1999-03-08T09:00:00Z  1999-04-04T00:00:00Z   57      M   \n",
       "3   WC5502023  1996-07-26T09:00:00Z  1996-09-04T00:00:00Z   33      M   \n",
       "4   WC4785156  1994-04-13T14:00:00Z  1994-07-07T00:00:00Z   32      F   \n",
       "\n",
       "  MaritalStatus  DependentChildren  DependentsOther PartTimeFullTime  \\\n",
       "0             S                  1                0                F   \n",
       "1             M                  0                0                F   \n",
       "2             M                  0                0                F   \n",
       "3             M                  0                0                F   \n",
       "4             M                  0                0                F   \n",
       "\n",
       "                                    ClaimDescription  \\\n",
       "0   CAUGHT RIGHT HAND WITH HAMMER BURN TO RIGHT HAND   \n",
       "1          SPRAINED RIGHT ANKLE FRACTURE RIGHT ELBOW   \n",
       "2            STRUCK HAMMER CRUSH INJURY FINGERS HAND   \n",
       "3  STRUCK AGAINST AIR HOSE STRUCK GLASS LACERATIO...   \n",
       "4   FOREIGN BODY IN RIGHT FOOT BRUISED RIGHT BIG TOE   \n",
       "\n",
       "   InitialIncurredCalimsCost  \n",
       "0                       5300  \n",
       "1                       2000  \n",
       "2                      20000  \n",
       "3                        350  \n",
       "4                       3000  "
      ]
     },
     "execution_count": 102,
     "metadata": {},
     "output_type": "execute_result"
    }
   ],
   "source": [
    "Test_Dataset_drop.head(5)"
   ]
  },
  {
   "cell_type": "code",
   "execution_count": null,
   "id": "f1920778",
   "metadata": {
    "colab": {
     "base_uri": "https://localhost:8080/"
    },
    "id": "f1920778",
    "outputId": "6b6be822-2ca9-4e36-a891-34a5580f8543"
   },
   "outputs": [
    {
     "name": "stdout",
     "output_type": "stream",
     "text": [
      "<class 'pandas.core.frame.DataFrame'>\n",
      "RangeIndex: 36000 entries, 0 to 35999\n",
      "Data columns (total 11 columns):\n",
      " #   Column                     Non-Null Count  Dtype \n",
      "---  ------                     --------------  ----- \n",
      " 0   ClaimNumber                36000 non-null  object\n",
      " 1   DateTimeOfAccident         36000 non-null  object\n",
      " 2   DateReported               36000 non-null  object\n",
      " 3   Age                        36000 non-null  int64 \n",
      " 4   Gender                     36000 non-null  object\n",
      " 5   MaritalStatus              36000 non-null  object\n",
      " 6   DependentChildren          36000 non-null  int64 \n",
      " 7   DependentsOther            36000 non-null  int64 \n",
      " 8   PartTimeFullTime           36000 non-null  object\n",
      " 9   ClaimDescription           36000 non-null  object\n",
      " 10  InitialIncurredCalimsCost  36000 non-null  int64 \n",
      "dtypes: int64(4), object(7)\n",
      "memory usage: 3.0+ MB\n"
     ]
    }
   ],
   "source": [
    "Test_Dataset_drop.info()"
   ]
  },
  {
   "cell_type": "code",
   "execution_count": null,
   "id": "4d2a2e52",
   "metadata": {
    "id": "4d2a2e52"
   },
   "outputs": [],
   "source": [
    "label_encoder=pre.LabelEncoder()\n",
    "Test_Dataset_drop['ClaimNumber']=label_encoder.fit_transform(Test_Dataset_drop['ClaimNumber'])\n",
    "Test_Dataset_drop['DateTimeOfAccident']=label_encoder.fit_transform(Test_Dataset_drop['DateTimeOfAccident'])\n",
    "Test_Dataset_drop['DateReported']=label_encoder.fit_transform(Test_Dataset_drop['DateReported'])\n",
    "Test_Dataset_drop['Age']=label_encoder.fit_transform(Test_Dataset_drop['Age'])\n",
    "Test_Dataset_drop['Gender']=label_encoder.fit_transform(Test_Dataset_drop['Gender'])\n",
    "Test_Dataset_drop['MaritalStatus']=label_encoder.fit_transform(Test_Dataset_drop['MaritalStatus'])\n",
    "Test_Dataset_drop['PartTimeFullTime']=label_encoder.fit_transform(Test_Dataset_drop['PartTimeFullTime'])\n",
    "Test_Dataset_drop['ClaimDescription']=label_encoder.fit_transform(Test_Dataset_drop['ClaimDescription'])"
   ]
  },
  {
   "cell_type": "code",
   "execution_count": null,
   "id": "c28a0677",
   "metadata": {
    "colab": {
     "base_uri": "https://localhost:8080/"
    },
    "id": "c28a0677",
    "outputId": "a26c1f2f-5b05-4cdf-9945-434915d0bb53"
   },
   "outputs": [
    {
     "data": {
      "text/plain": [
       "ClaimNumber                  int64\n",
       "DateTimeOfAccident           int64\n",
       "DateReported                 int64\n",
       "Age                          int64\n",
       "Gender                       int64\n",
       "MaritalStatus                int64\n",
       "DependentChildren            int64\n",
       "DependentsOther              int64\n",
       "PartTimeFullTime             int64\n",
       "ClaimDescription             int64\n",
       "InitialIncurredCalimsCost    int64\n",
       "dtype: object"
      ]
     },
     "execution_count": 105,
     "metadata": {},
     "output_type": "execute_result"
    }
   ],
   "source": [
    "Test_Dataset_drop.dtypes"
   ]
  },
  {
   "cell_type": "code",
   "execution_count": null,
   "id": "ac02dd97",
   "metadata": {
    "id": "ac02dd97"
   },
   "outputs": [],
   "source": [
    "def test_pre(data):\n",
    "    import sklearn.preprocessing as pre\n",
    "    from sklearn.preprocessing import minmax_scale\n",
    "    #label_encoder=pre.LabelEncoder()\n",
    "    data=data.apply(minmax_scale)\n",
    "    #data['Age']=label_encoder.fit_transform(data['Age'])\n",
    "    #data['MaritalStatus']=label_encoder.fit_transform(data['MaritalStatus'])\n",
    "    #data['ClaimDescription']=label_encoder.fit_transform(data['ClaimDescription'])\n",
    "    return data"
   ]
  },
  {
   "cell_type": "code",
   "execution_count": null,
   "id": "aa549780",
   "metadata": {
    "id": "aa549780"
   },
   "outputs": [],
   "source": [
    "test=test_pre(Test_Dataset_drop)"
   ]
  },
  {
   "cell_type": "code",
   "execution_count": null,
   "id": "6c861975",
   "metadata": {
    "id": "6c861975"
   },
   "outputs": [],
   "source": [
    "y_pred=thirdmodel.predict(test)"
   ]
  },
  {
   "cell_type": "code",
   "execution_count": null,
   "id": "0cfa08a1",
   "metadata": {
    "colab": {
     "base_uri": "https://localhost:8080/"
    },
    "id": "0cfa08a1",
    "outputId": "28f2a799-f904-42ec-e539-44abc72f13a2"
   },
   "outputs": [
    {
     "data": {
      "text/plain": [
       "array([ 846.53527419, 1022.43051588,  872.05163966, ..., 1213.23701594,\n",
       "       1273.96498442,  951.11595528])"
      ]
     },
     "execution_count": 109,
     "metadata": {},
     "output_type": "execute_result"
    }
   ],
   "source": [
    "y_pred"
   ]
  },
  {
   "cell_type": "code",
   "execution_count": null,
   "id": "5ffb8df9",
   "metadata": {
    "id": "5ffb8df9"
   },
   "outputs": [],
   "source": [
    "result=y_pred"
   ]
  },
  {
   "cell_type": "code",
   "execution_count": null,
   "id": "4e0df726",
   "metadata": {
    "id": "4e0df726"
   },
   "outputs": [],
   "source": [
    "def submission(result):\n",
    "     submission = pd.read_csv(\"/content/sample_submission.csv\")\n",
    "     submission = submission.drop('UltimateIncurredClaimCost',axis=1)\n",
    "     submission['UltimateIncurredClaimCost'] = result\n",
    "     #Writing the file\n",
    "     submission.to_csv(\"Submit.csv\",index=False)\n",
    "    \n",
    "submission(result)"
   ]
  }
 ],
 "metadata": {
  "colab": {
   "collapsed_sections": [],
   "name": "B1326237_NAGAPPAN_GOWTHAMI_Machine_Learning.ipynb",
   "provenance": []
  },
  "kernelspec": {
   "display_name": "Python 3 (ipykernel)",
   "language": "python",
   "name": "python3"
  },
  "language_info": {
   "codemirror_mode": {
    "name": "ipython",
    "version": 3
   },
   "file_extension": ".py",
   "mimetype": "text/x-python",
   "name": "python",
   "nbconvert_exporter": "python",
   "pygments_lexer": "ipython3",
   "version": "3.9.7"
  }
 },
 "nbformat": 4,
 "nbformat_minor": 5
}
